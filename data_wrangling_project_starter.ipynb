{
 "cells": [
  {
   "cell_type": "markdown",
   "metadata": {
    "id": "GNIwe5N7s0e_"
   },
   "source": [
    "# Real-world Data Wrangling"
   ]
  },
  {
   "cell_type": "markdown",
   "metadata": {
    "id": "_BG63Tpg8ep_"
   },
   "source": [
    "In this project, you will apply the skills you acquired in the course to gather and wrangle real-world data with two datasets of your choice.\n",
    "\n",
    "You will retrieve and extract the data, assess the data programmatically and visually, accross elements of data quality and structure, and implement a cleaning strategy for the data. You will then store the updated data into your selected database/data store, combine the data, and answer a research question with the datasets.\n",
    "\n",
    "Throughout the process, you are expected to:\n",
    "\n",
    "1. Explain your decisions towards methods used for gathering, assessing, cleaning, storing, and answering the research question\n",
    "2. Write code comments so your code is more readable"
   ]
  },
  {
   "cell_type": "markdown",
   "metadata": {
    "id": "lDYDkH-Zs7Nn"
   },
   "source": [
    "## 1. Gather data\n",
    "\n",
    "In this section, you will extract data using two different data gathering methods and combine the data. Use at least two different types of data-gathering methods."
   ]
  },
  {
   "cell_type": "markdown",
   "metadata": {
    "id": "LbN7z7rcuqpO"
   },
   "source": "### **1.1.** Problem Statement"
  },
  {
   "cell_type": "markdown",
   "metadata": {
    "id": "gi6swhjSYqu2"
   },
   "source": [
    "Climate Change can have wide and systemic impacts, varying from atmospheric, environmental, weather, and water quality. I'd like to identify how Climate Change has impacted the area I live in (Lander Wyoming).\n",
    "Particularly I'd like to investigate temperature fluctuations, and radiation levels.\n"
   ]
  },
  {
   "cell_type": "markdown",
   "metadata": {
    "id": "8AQfBAdUypMm"
   },
   "source": [
    "### **1.2.** Gather at least two datasets using two different data gathering methods\n",
    "\n",
    "List of data gathering methods:\n",
    "\n",
    "- Download data manually\n",
    "- Programmatically downloading files\n",
    "- Gather data by accessing APIs\n",
    "- Gather and extract data from HTML files using BeautifulSoup\n",
    "- Extract data from a SQL database\n",
    "\n",
    "Each dataset must have at least two variables, and have greater than 500 data samples within each dataset.\n",
    "\n",
    "For each dataset, briefly describe why you picked the dataset and the gathering method (2-3 full sentences), including the names and significance of the variables in the dataset. Show your work (e.g., if using an API to download the data, please include a snippet of your code). \n",
    "\n",
    "Load the dataset programmtically into this notebook."
   ]
  },
  {
   "cell_type": "markdown",
   "metadata": {
    "id": "7e6gS0wL1KTu"
   },
   "source": [
    "#### **Open Meteo - Hourly Radiation Weather Data**\n",
    "\n",
    "Type: Tabular records for hourly weather reporting in Lander Wyoming.\n",
    "\n",
    "Method: Gather data by accessing the Open Meteo Historical Weather Data API.\n",
    "\n",
    "The first dataset will come from the [Open Meteo API](https://open-meteo.com/en/docs/historical-forecast-api). Source information for this dataset can be found [here](https://open-meteo.com/en/docs/historical-forecast-api#data_sources).\n",
    "_NOTE:_ This archival API only has access to 2016 and beyond.\n",
    "\n",
    "Hourly Weather dataset variables:\n",
    "* **latitude**: float - latitude of the location\n",
    "* **longitude**: float - longitude of the location\n",
    "* **start_date**: datetime - start of hour (America/Denver)\n",
    "* **end_date**: datetime - end of hour (America/Denver)\n",
    "* **shortwave_radiation**: float - average temperature aggregated by 2m intervals (fahrenheit)\n",
    "* **direct_radiation**: float - sum of precipitation in (inch)\n",
    "* **diffuse_radiation**: float - amount of diffused radiation\n",
    "* **direct_normal_irradiance**: float - amount of direct normal irradiance\n",
    "* **global_tilted_irradiance**: float - amount of global tilted irradiance radiation\n",
    "* **terrestrial_radiation** - float - amount of terrestrial radiation"
   ]
  },
  {
   "cell_type": "code",
   "metadata": {
    "id": "Su8E0uLuYkHU",
    "ExecuteTime": {
     "end_time": "2025-09-26T02:20:43.976335Z",
     "start_time": "2025-09-26T02:20:43.305150Z"
    }
   },
   "source": [
    "from weather_api_importer import (\n",
    "    get_hourly_weather_records_by_date,\n",
    "    insert_hourly_weather_records,\n",
    ")\n",
    "from models import (\n",
    "    NOAAStationMonthlySummary,\n",
    "    Base,\n",
    "    Location,\n",
    "    OMSolarMonthlyWeatherRecord,\n",
    ")\n",
    "import pandas as pd\n",
    "import seaborn as sns\n",
    "import matplotlib.pyplot as plt\n",
    "from sqlalchemy import insert, select, create_engine\n",
    "import numpy as np\n",
    "\n",
    "# Lander Wyoming Lat/Long values\n",
    "LATITUDE: float = 42.8330\n",
    "LONGITUDE: float = 108.7307\n",
    "START_DATE = \"2016-02-01\"\n",
    "END_DATE = \"2025-08-01\"\n",
    "ENGINE = create_engine(\"sqlite:///weather.db\")\n",
    "# Will be the default in future versions of Pandas\n",
    "pd.options.mode.copy_on_write = True"
   ],
   "outputs": [],
   "execution_count": 1
  },
  {
   "cell_type": "code",
   "metadata": {
    "ExecuteTime": {
     "end_time": "2025-09-26T02:20:44.003341Z",
     "start_time": "2025-09-26T02:20:43.984624Z"
    }
   },
   "source": [
    "# Build the models within the SQLite Database\n",
    "Base.metadata.create_all(ENGINE)\n",
    "with ENGINE.begin() as conn:  # transactional context\n",
    "    default_location = conn.execute(\n",
    "        select(Location.id).where(\n",
    "            Location.latitude == LATITUDE,\n",
    "            Location.longitude == LONGITUDE,\n",
    "        )\n",
    "    ).scalar_one_or_none()\n",
    "\n",
    "    if default_location is None:\n",
    "        conn.execute(\n",
    "            insert(Location).values(\n",
    "                latitude=LATITUDE,\n",
    "                longitude=LONGITUDE,\n",
    "                friendly_name=\"Lander, Wyoming\",\n",
    "            )\n",
    "        )"
   ],
   "outputs": [],
   "execution_count": 2
  },
  {
   "cell_type": "code",
   "metadata": {
    "ExecuteTime": {
     "end_time": "2025-09-26T02:20:45.140200Z",
     "start_time": "2025-09-26T02:20:44.011282Z"
    }
   },
   "source": [
    "# Identify if Open Meteo data should be imported\n",
    "# RUN the following IF importing fresh data\n",
    "# OMSolarHourlyWeatherRecord.__table__.drop(ENGINE, checkfirst=True)\n",
    "# OMSolarHourlyWeatherRecord.__table__.create(ENGINE, checkfirst=True)\n",
    "df_om_solar_hourly = pd.read_sql_table(\"om_solar_hourly_weather\", ENGINE)\n",
    "if df_om_solar_hourly.empty:\n",
    "    hourly_records = get_hourly_weather_records_by_date(\n",
    "        start_date=START_DATE, end_date=END_DATE\n",
    "    )\n",
    "    insert_hourly_weather_records(hourly_records)\n",
    "\n",
    "df_om_solar_hourly = pd.read_sql_table(\"om_solar_hourly_weather\", ENGINE)"
   ],
   "outputs": [],
   "execution_count": 3
  },
  {
   "cell_type": "code",
   "metadata": {
    "ExecuteTime": {
     "end_time": "2025-09-26T02:20:45.272440Z",
     "start_time": "2025-09-26T02:20:45.260454Z"
    }
   },
   "source": [
    "df_om_solar_hourly.info()"
   ],
   "outputs": [
    {
     "name": "stdout",
     "output_type": "stream",
     "text": [
      "<class 'pandas.core.frame.DataFrame'>\n",
      "RangeIndex: 83280 entries, 0 to 83279\n",
      "Data columns (total 8 columns):\n",
      " #   Column                    Non-Null Count  Dtype         \n",
      "---  ------                    --------------  -----         \n",
      " 0   id                        83280 non-null  int64         \n",
      " 1   location_id               83280 non-null  int64         \n",
      " 2   date                      83280 non-null  datetime64[ns]\n",
      " 3   shortwave_radiation       83280 non-null  float64       \n",
      " 4   direct_radiation          83280 non-null  float64       \n",
      " 5   diffuse_radiation         83280 non-null  float64       \n",
      " 6   direct_normal_irradiance  83280 non-null  float64       \n",
      " 7   global_tilted_irradiance  83280 non-null  float64       \n",
      "dtypes: datetime64[ns](1), float64(5), int64(2)\n",
      "memory usage: 5.1 MB\n"
     ]
    }
   ],
   "execution_count": 4
  },
  {
   "cell_type": "markdown",
   "metadata": {
    "id": "hoUjq1tPzz7P"
   },
   "source": [
    "#### NOAA Monthly Summary\n",
    "\n",
    "Type: CSV File\n",
    "\n",
    "\n",
    "Method: From this [link](https://www.ncei.noaa.gov/access/search/data-search/global-summary-of-the-month), filter the location to Lander Wyoming and download the full data set for 'LANDER AIRPORT, WY US (USW00024021.csv)'\n",
    "\n",
    "This DataSet was gathered from the National Centers for Environmental Information (NOAA), and is representative of the Lander Wyoming Weather data since 1948.\n",
    "More specifically this source is from the [Global Summary of the Month](https://www.ncei.noaa.gov/access/search/data-search/global-summary-of-the-month) aggregate dataset.\n",
    "This data will be parsed and paired down to a usable dataset, and later stored to then compare with current trends from Data Set 1.\n",
    "\n",
    "The dataset has 110 columns to choose from, all of which use a shorthand. [This PDF](https://www.ncei.noaa.gov/pub/data/cdo/documentation/GSOM_documentation.pdf) can be used as a reference.\n",
    "\n"
   ]
  },
  {
   "cell_type": "code",
   "metadata": {
    "id": "6zT0QxRyYmm7",
    "ExecuteTime": {
     "end_time": "2025-09-26T02:20:45.338693Z",
     "start_time": "2025-09-26T02:20:45.315196Z"
    }
   },
   "source": [
    "df_noaa = pd.read_csv(\"./USWGlobalSummaryOfTheMonth.csv\")"
   ],
   "outputs": [],
   "execution_count": 5
  },
  {
   "cell_type": "code",
   "metadata": {
    "ExecuteTime": {
     "end_time": "2025-09-26T02:20:45.362377Z",
     "start_time": "2025-09-26T02:20:45.351914Z"
    }
   },
   "source": [
    "df_noaa.info()"
   ],
   "outputs": [
    {
     "name": "stdout",
     "output_type": "stream",
     "text": [
      "<class 'pandas.core.frame.DataFrame'>\n",
      "RangeIndex: 930 entries, 0 to 929\n",
      "Columns: 110 entries, STATION to WSFM_ATTRIBUTES\n",
      "dtypes: float64(54), int64(4), object(52)\n",
      "memory usage: 799.3+ KB\n"
     ]
    }
   ],
   "execution_count": 6
  },
  {
   "cell_type": "markdown",
   "metadata": {},
   "source": [
    "## Dataset 2 fields of interest\n",
    "* DATE - datetime\n",
    "* LATITUDE - float\n",
    "* LONGITUDE - float\n",
    "* NAME - string\n",
    "* ADPT - Monthly Average Dew Point Temperature\n",
    "* AWND - Monthly Average Wind Speed\n",
    "* CDSD - Cooling Degree Days (season-to-date)\n",
    "* DP01 - Number of days with >= 0.01 inch/0.254 millimeter in the month\n",
    "* DP1X - Number of days with >= 1.00 inch/25.4 millimeters in the month\n",
    "* DSND - Number of days with snow depth >= 1 inch/25 millimeters\n",
    "* DSNW - Number of days with snowfall >= 1 inch/25 millimeters\n",
    "* DT00 Number of days with maximum temperature <= 0 degrees Fahrenheit/-17.8 degrees Celsius\n",
    "* DT32 - Number of days with minimum temperature <= 32 degrees Fahrenheit/0 degrees Celsius\n",
    "* DX32 - Number of days with maximum temperature <= 32 degrees Fahrenheit/0 degrees Celsius\n",
    "* DX70 - Number of days with maximum temperature >= 70 degrees Fahrenheit/21.1 degrees Celsius\n",
    "* DX90 - Number of days with maximum temperature >= 90 degrees Fahrenheit/32.2 degrees Celsius\n",
    "* EMNT - Extreme minimum temperature for month. Lowest daily minimum temperature for the\n",
    "month\n",
    "* EMXP - Highest daily total of precipitation in the month. Given in inches or millimeters depending\n",
    "on user specification\n",
    "* EMXT - Extreme maximum temperature for month. Highest daily maximum temperature for the\n",
    "month. Given in Celsius or Fahrenheit depending on user specification\n",
    "* PRCP - Total Monthly Precipitation\n",
    "* PSUN - Monthly Average of the daily percents of possible sunshine\n",
    "* SNOW - Total Monthly Snowfall\n",
    "* TAVG - Average Monthly Temperature\n",
    "* TMAX - Monthly Maximum Temperature. Average of daily maximum temperature\n",
    "* TMIN - Monthly Minimum Temperature. Average of daily minimum temperature\n",
    "* TSUN - Daily total sunshine in minutes"
   ]
  },
  {
   "cell_type": "markdown",
   "metadata": {},
   "source": [
    "## 2. Assess data\n",
    "\n",
    "Assess the data according to data quality and tidiness metrics using the report below.\n",
    "\n",
    "List **two** data quality issues and **two** tidiness issues. Assess each data issue visually **and** programmatically, then briefly describe the issue you find.  **Make sure you include justifications for the methods you use for the assessment.**"
   ]
  },
  {
   "cell_type": "markdown",
   "metadata": {},
   "source": [
    "### Quality Issue 1:\n",
    "Several columns are set as the incorrect datatype, and should be modified to meet their current representation of either a count of Days (int64), a float value, or string.\n",
    "Issue and justification:\n",
    "Not having the correct data types for these fields will lead to incorrect analysis down the line."
   ]
  },
  {
   "cell_type": "code",
   "metadata": {
    "ExecuteTime": {
     "end_time": "2025-09-26T02:20:45.398346Z",
     "start_time": "2025-09-26T02:20:45.388235Z"
    }
   },
   "source": [
    "# The DF Hourly data is in good shape for null values and data types\n",
    "df_om_solar_hourly.isnull().sum()"
   ],
   "outputs": [
    {
     "data": {
      "text/plain": [
       "id                          0\n",
       "location_id                 0\n",
       "date                        0\n",
       "shortwave_radiation         0\n",
       "direct_radiation            0\n",
       "diffuse_radiation           0\n",
       "direct_normal_irradiance    0\n",
       "global_tilted_irradiance    0\n",
       "dtype: int64"
      ]
     },
     "execution_count": 7,
     "metadata": {},
     "output_type": "execute_result"
    }
   ],
   "execution_count": 7
  },
  {
   "cell_type": "code",
   "metadata": {
    "ExecuteTime": {
     "end_time": "2025-09-26T02:20:45.461888Z",
     "start_time": "2025-09-26T02:20:45.454885Z"
    }
   },
   "source": [
    "df_om_solar_hourly.isna().sum()"
   ],
   "outputs": [
    {
     "data": {
      "text/plain": [
       "id                          0\n",
       "location_id                 0\n",
       "date                        0\n",
       "shortwave_radiation         0\n",
       "direct_radiation            0\n",
       "diffuse_radiation           0\n",
       "direct_normal_irradiance    0\n",
       "global_tilted_irradiance    0\n",
       "dtype: int64"
      ]
     },
     "execution_count": 8,
     "metadata": {},
     "output_type": "execute_result"
    }
   ],
   "execution_count": 8
  },
  {
   "cell_type": "code",
   "metadata": {
    "ExecuteTime": {
     "end_time": "2025-09-26T02:20:45.651438Z",
     "start_time": "2025-09-26T02:20:45.645806Z"
    }
   },
   "source": [
    "df_om_solar_hourly.dtypes"
   ],
   "outputs": [
    {
     "data": {
      "text/plain": [
       "id                                   int64\n",
       "location_id                          int64\n",
       "date                        datetime64[ns]\n",
       "shortwave_radiation                float64\n",
       "direct_radiation                   float64\n",
       "diffuse_radiation                  float64\n",
       "direct_normal_irradiance           float64\n",
       "global_tilted_irradiance           float64\n",
       "dtype: object"
      ]
     },
     "execution_count": 9,
     "metadata": {},
     "output_type": "execute_result"
    }
   ],
   "execution_count": 9
  },
  {
   "cell_type": "code",
   "metadata": {
    "ExecuteTime": {
     "end_time": "2025-09-26T02:20:45.759151Z",
     "start_time": "2025-09-26T02:20:45.751950Z"
    }
   },
   "source": [
    "# The date format is YYYY-MM and is an object type and should be setup as a datetime for later filtering of columns\n",
    "print(df_noaa.dtypes)\n",
    "df_noaa[\"DATE\"].head()"
   ],
   "outputs": [
    {
     "name": "stdout",
     "output_type": "stream",
     "text": [
      "STATION             object\n",
      "DATE                object\n",
      "LATITUDE           float64\n",
      "LONGITUDE          float64\n",
      "ELEVATION          float64\n",
      "                    ...   \n",
      "WSF5_ATTRIBUTES     object\n",
      "WSFG               float64\n",
      "WSFG_ATTRIBUTES     object\n",
      "WSFM               float64\n",
      "WSFM_ATTRIBUTES     object\n",
      "Length: 110, dtype: object\n"
     ]
    },
    {
     "data": {
      "text/plain": [
       "0    1948-01\n",
       "1    1948-02\n",
       "2    1948-03\n",
       "3    1948-04\n",
       "4    1948-05\n",
       "Name: DATE, dtype: object"
      ]
     },
     "execution_count": 10,
     "metadata": {},
     "output_type": "execute_result"
    }
   ],
   "execution_count": 10
  },
  {
   "cell_type": "code",
   "metadata": {
    "ExecuteTime": {
     "end_time": "2025-09-26T02:20:45.966837Z",
     "start_time": "2025-09-26T02:20:45.961665Z"
    }
   },
   "source": [
    "# Dates look good for Open Meteo Dataset\n",
    "df_om_solar_hourly[\"date\"].head()"
   ],
   "outputs": [
    {
     "data": {
      "text/plain": [
       "0   2016-02-01 06:00:00\n",
       "1   2016-02-01 07:00:00\n",
       "2   2016-02-01 08:00:00\n",
       "3   2016-02-01 09:00:00\n",
       "4   2016-02-01 10:00:00\n",
       "Name: date, dtype: datetime64[ns]"
      ]
     },
     "execution_count": 11,
     "metadata": {},
     "output_type": "execute_result"
    }
   ],
   "execution_count": 11
  },
  {
   "cell_type": "markdown",
   "metadata": {},
   "source": [
    "### Quality Issue 2:\n",
    "The NOAA Dataset has a large number of null values for the chosen location. Sort through these and drop ones that are primarily null."
   ]
  },
  {
   "cell_type": "code",
   "metadata": {
    "ExecuteTime": {
     "end_time": "2025-09-26T02:20:46.073974Z",
     "start_time": "2025-09-26T02:20:46.060311Z"
    }
   },
   "source": [
    "df_noaa.isnull().sum().sort_values(ascending=False)\n",
    "# I suspect the missing values may be related to dates"
   ],
   "outputs": [
    {
     "data": {
      "text/plain": [
       "DYHF_ATTRIBUTES    930\n",
       "DYFG_ATTRIBUTES    930\n",
       "DYTS_ATTRIBUTES    930\n",
       "WDF1               857\n",
       "WSF1_ATTRIBUTES    857\n",
       "                  ... \n",
       "PRCP                 0\n",
       "DYXP_ATTRIBUTES      0\n",
       "DYXP                 0\n",
       "EMXP                 0\n",
       "EMXP_ATTRIBUTES      0\n",
       "Length: 110, dtype: int64"
      ]
     },
     "execution_count": 12,
     "metadata": {},
     "output_type": "execute_result"
    }
   ],
   "execution_count": 12
  },
  {
   "cell_type": "markdown",
   "metadata": {
    "id": "lXhGiYyiwwKN"
   },
   "source": [
    "### Tidiness Issue 1:\n",
    "Given that we know the location is Lander Wyoming we can drop that data and replace it with location id = 1 prior to storing"
   ]
  },
  {
   "cell_type": "code",
   "metadata": {
    "id": "fleC5rORI0Xl",
    "ExecuteTime": {
     "end_time": "2025-09-26T02:20:46.316974Z",
     "start_time": "2025-09-26T02:20:46.307593Z"
    }
   },
   "source": [
    "# FILL IN - Inspecting the dataframe visually\n",
    "df_noaa[[\"NAME\", \"LATITUDE\", \"LONGITUDE\", \"STATION\", \"ELEVATION\"]].value_counts()"
   ],
   "outputs": [
    {
     "data": {
      "text/plain": [
       "NAME                   LATITUDE  LONGITUDE   STATION      ELEVATION\n",
       "LANDER AIRPORT, WY US  42.81536  -108.72604  USW00024021  1698.5       930\n",
       "Name: count, dtype: int64"
      ]
     },
     "execution_count": 13,
     "metadata": {},
     "output_type": "execute_result"
    }
   ],
   "execution_count": 13
  },
  {
   "cell_type": "markdown",
   "metadata": {
    "id": "4ffMoRGSwzYj"
   },
   "source": [
    "### Tidiness Issue 2:\n",
    "The incoming data is setup as hourly data, this is great for granularity, but to compare to the monthly summary we will need to build up a monthly set"
   ]
  },
  {
   "cell_type": "code",
   "metadata": {
    "id": "XUpeoqokw5Qt",
    "ExecuteTime": {
     "end_time": "2025-09-26T02:20:46.586656Z",
     "start_time": "2025-09-26T02:20:46.541197Z"
    }
   },
   "source": [
    "df_om_solar_hourly.describe()"
   ],
   "outputs": [
    {
     "data": {
      "text/plain": [
       "                 id  location_id                 date  shortwave_radiation  \\\n",
       "count  83280.000000      83280.0                83280         83280.000000   \n",
       "mean   41640.500000          1.0  2020-11-01 05:30:00           187.987008   \n",
       "min        1.000000          1.0  2016-02-01 06:00:00             0.000000   \n",
       "25%    20820.750000          1.0  2018-06-17 17:45:00             0.000000   \n",
       "50%    41640.500000          1.0  2020-11-01 05:30:00            11.000000   \n",
       "75%    62460.250000          1.0  2023-03-18 17:15:00           364.000000   \n",
       "max    83280.000000          1.0  2025-08-02 05:00:00           958.000000   \n",
       "std    24041.009546          0.0                  NaN           255.626709   \n",
       "\n",
       "       direct_radiation  diffuse_radiation  direct_normal_irradiance  \\\n",
       "count      83280.000000       83280.000000              83280.000000   \n",
       "mean         113.440058          74.546950                206.532118   \n",
       "min            0.000000           0.000000                  0.000000   \n",
       "25%            0.000000           0.000000                  0.000000   \n",
       "50%            0.000000          10.000000                  0.000000   \n",
       "75%          200.000000         137.000000                441.862122   \n",
       "max          792.000000         477.000000                926.295837   \n",
       "std          174.659486          96.461558                275.243797   \n",
       "\n",
       "       global_tilted_irradiance  \n",
       "count              83280.000000  \n",
       "mean                 187.987008  \n",
       "min                    0.000000  \n",
       "25%                    0.000000  \n",
       "50%                   11.000000  \n",
       "75%                  364.000000  \n",
       "max                  958.000000  \n",
       "std                  255.626709  "
      ],
      "text/html": [
       "<div>\n",
       "<style scoped>\n",
       "    .dataframe tbody tr th:only-of-type {\n",
       "        vertical-align: middle;\n",
       "    }\n",
       "\n",
       "    .dataframe tbody tr th {\n",
       "        vertical-align: top;\n",
       "    }\n",
       "\n",
       "    .dataframe thead th {\n",
       "        text-align: right;\n",
       "    }\n",
       "</style>\n",
       "<table border=\"1\" class=\"dataframe\">\n",
       "  <thead>\n",
       "    <tr style=\"text-align: right;\">\n",
       "      <th></th>\n",
       "      <th>id</th>\n",
       "      <th>location_id</th>\n",
       "      <th>date</th>\n",
       "      <th>shortwave_radiation</th>\n",
       "      <th>direct_radiation</th>\n",
       "      <th>diffuse_radiation</th>\n",
       "      <th>direct_normal_irradiance</th>\n",
       "      <th>global_tilted_irradiance</th>\n",
       "    </tr>\n",
       "  </thead>\n",
       "  <tbody>\n",
       "    <tr>\n",
       "      <th>count</th>\n",
       "      <td>83280.000000</td>\n",
       "      <td>83280.0</td>\n",
       "      <td>83280</td>\n",
       "      <td>83280.000000</td>\n",
       "      <td>83280.000000</td>\n",
       "      <td>83280.000000</td>\n",
       "      <td>83280.000000</td>\n",
       "      <td>83280.000000</td>\n",
       "    </tr>\n",
       "    <tr>\n",
       "      <th>mean</th>\n",
       "      <td>41640.500000</td>\n",
       "      <td>1.0</td>\n",
       "      <td>2020-11-01 05:30:00</td>\n",
       "      <td>187.987008</td>\n",
       "      <td>113.440058</td>\n",
       "      <td>74.546950</td>\n",
       "      <td>206.532118</td>\n",
       "      <td>187.987008</td>\n",
       "    </tr>\n",
       "    <tr>\n",
       "      <th>min</th>\n",
       "      <td>1.000000</td>\n",
       "      <td>1.0</td>\n",
       "      <td>2016-02-01 06:00:00</td>\n",
       "      <td>0.000000</td>\n",
       "      <td>0.000000</td>\n",
       "      <td>0.000000</td>\n",
       "      <td>0.000000</td>\n",
       "      <td>0.000000</td>\n",
       "    </tr>\n",
       "    <tr>\n",
       "      <th>25%</th>\n",
       "      <td>20820.750000</td>\n",
       "      <td>1.0</td>\n",
       "      <td>2018-06-17 17:45:00</td>\n",
       "      <td>0.000000</td>\n",
       "      <td>0.000000</td>\n",
       "      <td>0.000000</td>\n",
       "      <td>0.000000</td>\n",
       "      <td>0.000000</td>\n",
       "    </tr>\n",
       "    <tr>\n",
       "      <th>50%</th>\n",
       "      <td>41640.500000</td>\n",
       "      <td>1.0</td>\n",
       "      <td>2020-11-01 05:30:00</td>\n",
       "      <td>11.000000</td>\n",
       "      <td>0.000000</td>\n",
       "      <td>10.000000</td>\n",
       "      <td>0.000000</td>\n",
       "      <td>11.000000</td>\n",
       "    </tr>\n",
       "    <tr>\n",
       "      <th>75%</th>\n",
       "      <td>62460.250000</td>\n",
       "      <td>1.0</td>\n",
       "      <td>2023-03-18 17:15:00</td>\n",
       "      <td>364.000000</td>\n",
       "      <td>200.000000</td>\n",
       "      <td>137.000000</td>\n",
       "      <td>441.862122</td>\n",
       "      <td>364.000000</td>\n",
       "    </tr>\n",
       "    <tr>\n",
       "      <th>max</th>\n",
       "      <td>83280.000000</td>\n",
       "      <td>1.0</td>\n",
       "      <td>2025-08-02 05:00:00</td>\n",
       "      <td>958.000000</td>\n",
       "      <td>792.000000</td>\n",
       "      <td>477.000000</td>\n",
       "      <td>926.295837</td>\n",
       "      <td>958.000000</td>\n",
       "    </tr>\n",
       "    <tr>\n",
       "      <th>std</th>\n",
       "      <td>24041.009546</td>\n",
       "      <td>0.0</td>\n",
       "      <td>NaN</td>\n",
       "      <td>255.626709</td>\n",
       "      <td>174.659486</td>\n",
       "      <td>96.461558</td>\n",
       "      <td>275.243797</td>\n",
       "      <td>255.626709</td>\n",
       "    </tr>\n",
       "  </tbody>\n",
       "</table>\n",
       "</div>"
      ]
     },
     "execution_count": 14,
     "metadata": {},
     "output_type": "execute_result"
    }
   ],
   "execution_count": 14
  },
  {
   "cell_type": "markdown",
   "metadata": {
    "id": "D6gmLnBttpCh"
   },
   "source": [
    "## 3. Clean data\n",
    "Clean the data to solve the 4 issues corresponding to data quality and tidiness found in the assessing step. **Make sure you include justifications for your cleaning decisions.**\n",
    "\n",
    "After the cleaning for each issue, please use **either** the visually or programatical method to validate the cleaning was succesful.\n",
    "\n",
    "At this stage, you are also expected to remove variables that are unnecessary for your analysis and combine your datasets. Depending on your datasets, you may choose to perform variable combination and elimination before or after the cleaning stage. Your dataset must have **at least** 4 variables after combining the data."
   ]
  },
  {
   "cell_type": "code",
   "metadata": {
    "ExecuteTime": {
     "end_time": "2025-09-26T02:20:46.687113Z",
     "start_time": "2025-09-26T02:20:46.672357Z"
    }
   },
   "source": [
    "df_om_solar_hourly_copy = df_om_solar_hourly.copy()\n",
    "df_noaa_copy = df_noaa.copy()"
   ],
   "outputs": [],
   "execution_count": 15
  },
  {
   "cell_type": "markdown",
   "metadata": {
    "id": "FmFhN52Yyn3l"
   },
   "source": [
    "### **Quality Issue 1:**\n",
    "Setup as a proper types for each column (based on the aforementioned PDF), then abstract out a year and month column for later grouping"
   ]
  },
  {
   "cell_type": "code",
   "metadata": {
    "id": "9UejDWrNMW4a",
    "ExecuteTime": {
     "end_time": "2025-09-26T02:20:46.793207Z",
     "start_time": "2025-09-26T02:20:46.769316Z"
    }
   },
   "source": [
    "df_noaa_copy.loc[:, \"year\"] = pd.Series(\n",
    "    [dt[1].split(\"-\")[0] for dt in df_noaa_copy[\"DATE\"].items()]\n",
    ")\n",
    "df_noaa_copy.loc[:, \"month\"] = pd.Series(\n",
    "    [dt[1].split(\"-\")[1] for dt in df_noaa_copy[\"DATE\"].items()]\n",
    ")\n",
    "df_noaa_copy.head()"
   ],
   "outputs": [
    {
     "data": {
      "text/plain": [
       "       STATION     DATE  LATITUDE  LONGITUDE  ELEVATION  \\\n",
       "0  USW00024021  1948-01  42.81536 -108.72604     1698.5   \n",
       "1  USW00024021  1948-02  42.81536 -108.72604     1698.5   \n",
       "2  USW00024021  1948-03  42.81536 -108.72604     1698.5   \n",
       "3  USW00024021  1948-04  42.81536 -108.72604     1698.5   \n",
       "4  USW00024021  1948-05  42.81536 -108.72604     1698.5   \n",
       "\n",
       "                    NAME  ADPT ADPT_ATTRIBUTES  ASLP ASLP_ATTRIBUTES  ...  \\\n",
       "0  LANDER AIRPORT, WY US   NaN             NaN   NaN             NaN  ...   \n",
       "1  LANDER AIRPORT, WY US   NaN             NaN   NaN             NaN  ...   \n",
       "2  LANDER AIRPORT, WY US   NaN             NaN   NaN             NaN  ...   \n",
       "3  LANDER AIRPORT, WY US   NaN             NaN   NaN             NaN  ...   \n",
       "4  LANDER AIRPORT, WY US   NaN             NaN   NaN             NaN  ...   \n",
       "\n",
       "   WSF2 WSF2_ATTRIBUTES  WSF5 WSF5_ATTRIBUTES  WSFG WSFG_ATTRIBUTES  WSFM  \\\n",
       "0   NaN             NaN   NaN             NaN   NaN             NaN   NaN   \n",
       "1   NaN             NaN   NaN             NaN   NaN             NaN   NaN   \n",
       "2   NaN             NaN   NaN             NaN   NaN             NaN   NaN   \n",
       "3   NaN             NaN   NaN             NaN   NaN             NaN   NaN   \n",
       "4   NaN             NaN   NaN             NaN   NaN             NaN   NaN   \n",
       "\n",
       "  WSFM_ATTRIBUTES  year month  \n",
       "0             NaN  1948    01  \n",
       "1             NaN  1948    02  \n",
       "2             NaN  1948    03  \n",
       "3             NaN  1948    04  \n",
       "4             NaN  1948    05  \n",
       "\n",
       "[5 rows x 112 columns]"
      ],
      "text/html": [
       "<div>\n",
       "<style scoped>\n",
       "    .dataframe tbody tr th:only-of-type {\n",
       "        vertical-align: middle;\n",
       "    }\n",
       "\n",
       "    .dataframe tbody tr th {\n",
       "        vertical-align: top;\n",
       "    }\n",
       "\n",
       "    .dataframe thead th {\n",
       "        text-align: right;\n",
       "    }\n",
       "</style>\n",
       "<table border=\"1\" class=\"dataframe\">\n",
       "  <thead>\n",
       "    <tr style=\"text-align: right;\">\n",
       "      <th></th>\n",
       "      <th>STATION</th>\n",
       "      <th>DATE</th>\n",
       "      <th>LATITUDE</th>\n",
       "      <th>LONGITUDE</th>\n",
       "      <th>ELEVATION</th>\n",
       "      <th>NAME</th>\n",
       "      <th>ADPT</th>\n",
       "      <th>ADPT_ATTRIBUTES</th>\n",
       "      <th>ASLP</th>\n",
       "      <th>ASLP_ATTRIBUTES</th>\n",
       "      <th>...</th>\n",
       "      <th>WSF2</th>\n",
       "      <th>WSF2_ATTRIBUTES</th>\n",
       "      <th>WSF5</th>\n",
       "      <th>WSF5_ATTRIBUTES</th>\n",
       "      <th>WSFG</th>\n",
       "      <th>WSFG_ATTRIBUTES</th>\n",
       "      <th>WSFM</th>\n",
       "      <th>WSFM_ATTRIBUTES</th>\n",
       "      <th>year</th>\n",
       "      <th>month</th>\n",
       "    </tr>\n",
       "  </thead>\n",
       "  <tbody>\n",
       "    <tr>\n",
       "      <th>0</th>\n",
       "      <td>USW00024021</td>\n",
       "      <td>1948-01</td>\n",
       "      <td>42.81536</td>\n",
       "      <td>-108.72604</td>\n",
       "      <td>1698.5</td>\n",
       "      <td>LANDER AIRPORT, WY US</td>\n",
       "      <td>NaN</td>\n",
       "      <td>NaN</td>\n",
       "      <td>NaN</td>\n",
       "      <td>NaN</td>\n",
       "      <td>...</td>\n",
       "      <td>NaN</td>\n",
       "      <td>NaN</td>\n",
       "      <td>NaN</td>\n",
       "      <td>NaN</td>\n",
       "      <td>NaN</td>\n",
       "      <td>NaN</td>\n",
       "      <td>NaN</td>\n",
       "      <td>NaN</td>\n",
       "      <td>1948</td>\n",
       "      <td>01</td>\n",
       "    </tr>\n",
       "    <tr>\n",
       "      <th>1</th>\n",
       "      <td>USW00024021</td>\n",
       "      <td>1948-02</td>\n",
       "      <td>42.81536</td>\n",
       "      <td>-108.72604</td>\n",
       "      <td>1698.5</td>\n",
       "      <td>LANDER AIRPORT, WY US</td>\n",
       "      <td>NaN</td>\n",
       "      <td>NaN</td>\n",
       "      <td>NaN</td>\n",
       "      <td>NaN</td>\n",
       "      <td>...</td>\n",
       "      <td>NaN</td>\n",
       "      <td>NaN</td>\n",
       "      <td>NaN</td>\n",
       "      <td>NaN</td>\n",
       "      <td>NaN</td>\n",
       "      <td>NaN</td>\n",
       "      <td>NaN</td>\n",
       "      <td>NaN</td>\n",
       "      <td>1948</td>\n",
       "      <td>02</td>\n",
       "    </tr>\n",
       "    <tr>\n",
       "      <th>2</th>\n",
       "      <td>USW00024021</td>\n",
       "      <td>1948-03</td>\n",
       "      <td>42.81536</td>\n",
       "      <td>-108.72604</td>\n",
       "      <td>1698.5</td>\n",
       "      <td>LANDER AIRPORT, WY US</td>\n",
       "      <td>NaN</td>\n",
       "      <td>NaN</td>\n",
       "      <td>NaN</td>\n",
       "      <td>NaN</td>\n",
       "      <td>...</td>\n",
       "      <td>NaN</td>\n",
       "      <td>NaN</td>\n",
       "      <td>NaN</td>\n",
       "      <td>NaN</td>\n",
       "      <td>NaN</td>\n",
       "      <td>NaN</td>\n",
       "      <td>NaN</td>\n",
       "      <td>NaN</td>\n",
       "      <td>1948</td>\n",
       "      <td>03</td>\n",
       "    </tr>\n",
       "    <tr>\n",
       "      <th>3</th>\n",
       "      <td>USW00024021</td>\n",
       "      <td>1948-04</td>\n",
       "      <td>42.81536</td>\n",
       "      <td>-108.72604</td>\n",
       "      <td>1698.5</td>\n",
       "      <td>LANDER AIRPORT, WY US</td>\n",
       "      <td>NaN</td>\n",
       "      <td>NaN</td>\n",
       "      <td>NaN</td>\n",
       "      <td>NaN</td>\n",
       "      <td>...</td>\n",
       "      <td>NaN</td>\n",
       "      <td>NaN</td>\n",
       "      <td>NaN</td>\n",
       "      <td>NaN</td>\n",
       "      <td>NaN</td>\n",
       "      <td>NaN</td>\n",
       "      <td>NaN</td>\n",
       "      <td>NaN</td>\n",
       "      <td>1948</td>\n",
       "      <td>04</td>\n",
       "    </tr>\n",
       "    <tr>\n",
       "      <th>4</th>\n",
       "      <td>USW00024021</td>\n",
       "      <td>1948-05</td>\n",
       "      <td>42.81536</td>\n",
       "      <td>-108.72604</td>\n",
       "      <td>1698.5</td>\n",
       "      <td>LANDER AIRPORT, WY US</td>\n",
       "      <td>NaN</td>\n",
       "      <td>NaN</td>\n",
       "      <td>NaN</td>\n",
       "      <td>NaN</td>\n",
       "      <td>...</td>\n",
       "      <td>NaN</td>\n",
       "      <td>NaN</td>\n",
       "      <td>NaN</td>\n",
       "      <td>NaN</td>\n",
       "      <td>NaN</td>\n",
       "      <td>NaN</td>\n",
       "      <td>NaN</td>\n",
       "      <td>NaN</td>\n",
       "      <td>1948</td>\n",
       "      <td>05</td>\n",
       "    </tr>\n",
       "  </tbody>\n",
       "</table>\n",
       "<p>5 rows × 112 columns</p>\n",
       "</div>"
      ]
     },
     "execution_count": 16,
     "metadata": {},
     "output_type": "execute_result"
    }
   ],
   "execution_count": 16
  },
  {
   "cell_type": "code",
   "metadata": {
    "ExecuteTime": {
     "end_time": "2025-09-26T02:20:46.945876Z",
     "start_time": "2025-09-26T02:20:46.913378Z"
    }
   },
   "source": [
    "# Ensure data integrity prior to conversion, ignoring attributes and non-essential columns\n",
    "int_cols = [\n",
    "    \"DP01\",\n",
    "    \"DP10\",\n",
    "    \"DP1X\",\n",
    "    \"DSND\",\n",
    "    \"DSNW\",\n",
    "    \"DT00\",\n",
    "    \"DT32\",\n",
    "    \"DX32\",\n",
    "    \"DX70\",\n",
    "    \"DX90\",\n",
    "    \"DYFG\",\n",
    "    \"DYHF\",\n",
    "    \"DYNT\",\n",
    "    \"DYSD\",\n",
    "    \"DYSN\",\n",
    "    \"DYTS\",\n",
    "    \"DYXP\",\n",
    "    \"DYXT\",\n",
    "    \"WDF2\",\n",
    "    \"WDF5\",\n",
    "]\n",
    "float_cols = [\n",
    "    \"CDSD\",\n",
    "    \"CLDD\",\n",
    "    \"EMNT\",\n",
    "    \"EMSD\",\n",
    "    \"EMSN\",\n",
    "    \"EMXP\",\n",
    "    \"EMXT\",\n",
    "    \"HDSD\",\n",
    "    \"HTDD\",\n",
    "    \"PRCP\",\n",
    "    \"SNOW\",\n",
    "    \"TAVG\",\n",
    "    \"TMAX\",\n",
    "    \"TMIN\",\n",
    "    \"WSF2\",\n",
    "    \"WSF5\",\n",
    "]\n",
    "\n",
    "for col in int_cols:\n",
    "    if col in df_noaa_copy.columns:\n",
    "        df_noaa_copy[col] = pd.to_numeric(df_noaa_copy[col], errors=\"coerce\").astype(\n",
    "            \"Int64\"\n",
    "        )\n",
    "\n",
    "for col in float_cols:\n",
    "    if col in df_noaa_copy.columns:\n",
    "        df_noaa_copy[col] = pd.to_numeric(df_noaa_copy[col], errors=\"coerce\").astype(\n",
    "            float\n",
    "        )\n",
    "\n",
    "# Ensure date is datetime64[ns] representing the first day of the month\n",
    "df_noaa_copy[\"date\"] = pd.to_datetime(\n",
    "    df_noaa_copy[\"DATE\"], format=\"%Y-%m\", errors=\"raise\"\n",
    ")\n",
    "\n",
    "# Inspect dtypes after coercion\n",
    "df_noaa_copy.info()"
   ],
   "outputs": [
    {
     "name": "stdout",
     "output_type": "stream",
     "text": [
      "<class 'pandas.core.frame.DataFrame'>\n",
      "RangeIndex: 930 entries, 0 to 929\n",
      "Columns: 113 entries, STATION to date\n",
      "dtypes: Int64(20), datetime64[ns](1), float64(38), object(54)\n",
      "memory usage: 839.3+ KB\n"
     ]
    }
   ],
   "execution_count": 17
  },
  {
   "cell_type": "markdown",
   "metadata": {
    "id": "n_DAUbJrymBL"
   },
   "source": [
    "### **Quality Issue 2**\n",
    "Identifying null columns and dropping ones that exceed a reasonable threshold. If a pattern develops by year we could shorten the time span for comparision."
   ]
  },
  {
   "cell_type": "code",
   "metadata": {
    "ExecuteTime": {
     "end_time": "2025-09-26T02:20:47.191012Z",
     "start_time": "2025-09-26T02:20:47.045157Z"
    }
   },
   "source": [
    "# Ensure we filter out the _ATTRIBUTE columns to shorten the width of this df\n",
    "df_noaa_copy = df_noaa_copy[\n",
    "    [col for col in df_noaa_copy.columns if not col.endswith(\"_ATTRIBUTES\")]\n",
    "]\n",
    "\n",
    "# Count total rows per year (denominator)\n",
    "rows_per_year = df_noaa_copy.groupby(\"year\").size()\n",
    "\n",
    "# Sum of nulls per year by selected columns\n",
    "nulls_by_year = df_noaa_copy.groupby(\"year\")[df_noaa_copy.columns].apply(\n",
    "    lambda g: g.isnull().sum()\n",
    ")\n",
    "\n",
    "# Convert to proportions\n",
    "null_proportion_by_year = (nulls_by_year.div(rows_per_year, axis=0) * 100).round(1)"
   ],
   "outputs": [],
   "execution_count": 18
  },
  {
   "cell_type": "code",
   "metadata": {
    "ExecuteTime": {
     "end_time": "2025-09-26T02:20:48.103006Z",
     "start_time": "2025-09-26T02:20:47.235051Z"
    }
   },
   "source": [
    "plt.figure(figsize=(18, 9))\n",
    "ax = sns.heatmap(\n",
    "    null_proportion_by_year,\n",
    "    annot=False,\n",
    "    cmap=\"Greens\",\n",
    "    vmin=0,\n",
    "    vmax=100,\n",
    "    linewidths=0.5,\n",
    "    linecolor=\"white\",\n",
    "    cbar_kws={\"label\": \"% null\", \"format\": \"%.0f%%\"},\n",
    ")\n",
    "plt.title(\"Proportion Nulls by Year (Null Columns)\")\n",
    "plt.ylabel(\"Year\")\n",
    "plt.xlabel(\"Column\")\n",
    "plt.xticks(rotation=45, ha=\"right\", fontsize=9)\n",
    "plt.yticks(fontsize=10)\n",
    "plt.tight_layout()\n",
    "plt.show()"
   ],
   "outputs": [
    {
     "data": {
      "text/plain": [
       "<Figure size 1800x900 with 2 Axes>"
      ],
      "image/png": "[encoded data removed]"
     },
     "metadata": {},
     "output_type": "display_data",
     "jetTransient": {
      "display_id": null
     }
    }
   ],
   "execution_count": 19
  },
  {
   "cell_type": "code",
   "metadata": {
    "ExecuteTime": {
     "end_time": "2025-09-26T02:20:48.270970Z",
     "start_time": "2025-09-26T02:20:48.160862Z"
    }
   },
   "source": [
    "# Using the heatmap above I can visually see where some fields are null and at which year they are concentrated.\n",
    "# To clean up this chart we filter out columns that won't be useful for analysis (null columns), and include fields of interest\n",
    "try:\n",
    "    df_noaa_copy.drop(\n",
    "        [\n",
    "            \"ADPT\",\n",
    "            \"ASLP\",\n",
    "            \"ASTP\",\n",
    "            \"AWBT\",\n",
    "            \"AWND\",\n",
    "            \"PSUN\",\n",
    "            \"RHAV\",\n",
    "            \"RHMN\",\n",
    "            \"RHMX\",\n",
    "            \"TSUN\",\n",
    "            \"WDF1\",\n",
    "            \"WDFG\",\n",
    "            \"WDFM\",\n",
    "            \"WSF1\",\n",
    "            \"WSFG\",\n",
    "            \"WSFM\",\n",
    "        ],\n",
    "        axis=1,\n",
    "        inplace=True,\n",
    "    )\n",
    "except KeyError:\n",
    "    # Already dropped these columns\n",
    "    pass\n",
    "rows_per_year = df_noaa_copy.groupby(\"year\").size()\n",
    "nulls_by_year = df_noaa_copy.groupby(\"year\")[df_noaa_copy.columns].apply(\n",
    "    lambda g: g.isnull().sum()\n",
    ")\n",
    "null_proportion_by_year = (nulls_by_year.div(rows_per_year, axis=0) * 100).round(1)"
   ],
   "outputs": [],
   "execution_count": 20
  },
  {
   "cell_type": "code",
   "metadata": {
    "id": "ionB2sRaMUmY",
    "ExecuteTime": {
     "end_time": "2025-09-26T02:20:48.968657Z",
     "start_time": "2025-09-26T02:20:48.280594Z"
    }
   },
   "source": [
    "# Rebuild the same heatmap to determine the concentration of columns that have values\n",
    "plt.figure(figsize=(18, 9))\n",
    "ax = sns.heatmap(\n",
    "    null_proportion_by_year,\n",
    "    annot=False,\n",
    "    cmap=\"Greens\",\n",
    "    vmin=0,\n",
    "    vmax=100,\n",
    "    linewidths=0.5,\n",
    "    linecolor=\"white\",\n",
    "    cbar_kws={\"label\": \"% null\", \"format\": \"%.0f%%\"},\n",
    ")\n",
    "plt.title(\"Proportion Nulls by Year (Top Null Columns)\")\n",
    "plt.ylabel(\"Year\")\n",
    "plt.xlabel(\"Column\")\n",
    "plt.xticks(rotation=45, ha=\"right\", fontsize=9)\n",
    "plt.yticks(fontsize=10)\n",
    "plt.tight_layout()\n",
    "plt.show()"
   ],
   "outputs": [
    {
     "data": {
      "text/plain": [
       "<Figure size 1800x900 with 2 Axes>"
      ],
      "image/png": "[encoded data removed]"
     },
     "metadata": {},
     "output_type": "display_data",
     "jetTransient": {
      "display_id": null
     }
    }
   ],
   "execution_count": 21
  },
  {
   "cell_type": "markdown",
   "metadata": {},
   "source": "Now the Heatmap is looking a lot cleaner. We will have to keep in mind there are some gaps with the WDF fields, but since it is bound by date (>1996) we can work around that."
  },
  {
   "cell_type": "markdown",
   "metadata": {
    "id": "bIUrrfSNyOPR"
   },
   "source": [
    "### **Tidiness Issue 1**\n",
    "Prior to storing we will want to bring the location data into normal form via the Location table found in models.py"
   ]
  },
  {
   "cell_type": "code",
   "metadata": {
    "ExecuteTime": {
     "end_time": "2025-09-26T02:20:48.987562Z",
     "start_time": "2025-09-26T02:20:48.977372Z"
    }
   },
   "source": [
    "df_noaa_copy.info()"
   ],
   "outputs": [
    {
     "name": "stdout",
     "output_type": "stream",
     "text": [
      "<class 'pandas.core.frame.DataFrame'>\n",
      "RangeIndex: 930 entries, 0 to 929\n",
      "Data columns (total 45 columns):\n",
      " #   Column     Non-Null Count  Dtype         \n",
      "---  ------     --------------  -----         \n",
      " 0   STATION    930 non-null    object        \n",
      " 1   DATE       930 non-null    object        \n",
      " 2   LATITUDE   930 non-null    float64       \n",
      " 3   LONGITUDE  930 non-null    float64       \n",
      " 4   ELEVATION  930 non-null    float64       \n",
      " 5   NAME       930 non-null    object        \n",
      " 6   CDSD       912 non-null    float64       \n",
      " 7   CLDD       926 non-null    float64       \n",
      " 8   DP01       930 non-null    Int64         \n",
      " 9   DP10       930 non-null    Int64         \n",
      " 10  DP1X       930 non-null    Int64         \n",
      " 11  DSND       804 non-null    Int64         \n",
      " 12  DSNW       912 non-null    Int64         \n",
      " 13  DT00       927 non-null    Int64         \n",
      " 14  DT32       927 non-null    Int64         \n",
      " 15  DX32       926 non-null    Int64         \n",
      " 16  DX70       926 non-null    Int64         \n",
      " 17  DX90       926 non-null    Int64         \n",
      " 18  DYFG       585 non-null    Int64         \n",
      " 19  DYHF       271 non-null    Int64         \n",
      " 20  DYNT       927 non-null    Int64         \n",
      " 21  DYSD       804 non-null    Int64         \n",
      " 22  DYSN       912 non-null    Int64         \n",
      " 23  DYTS       470 non-null    Int64         \n",
      " 24  DYXP       930 non-null    Int64         \n",
      " 25  DYXT       926 non-null    Int64         \n",
      " 26  EMNT       927 non-null    float64       \n",
      " 27  EMSD       804 non-null    float64       \n",
      " 28  EMSN       912 non-null    float64       \n",
      " 29  EMXP       930 non-null    float64       \n",
      " 30  EMXT       926 non-null    float64       \n",
      " 31  HDSD       901 non-null    float64       \n",
      " 32  HTDD       926 non-null    float64       \n",
      " 33  PRCP       930 non-null    float64       \n",
      " 34  SNOW       912 non-null    float64       \n",
      " 35  TAVG       926 non-null    float64       \n",
      " 36  TMAX       926 non-null    float64       \n",
      " 37  TMIN       927 non-null    float64       \n",
      " 38  WDF2       334 non-null    Int64         \n",
      " 39  WDF5       309 non-null    Int64         \n",
      " 40  WSF2       334 non-null    float64       \n",
      " 41  WSF5       309 non-null    float64       \n",
      " 42  year       930 non-null    object        \n",
      " 43  month      930 non-null    object        \n",
      " 44  date       930 non-null    datetime64[ns]\n",
      "dtypes: Int64(20), datetime64[ns](1), float64(19), object(5)\n",
      "memory usage: 345.2+ KB\n"
     ]
    }
   ],
   "execution_count": 22
  },
  {
   "cell_type": "code",
   "metadata": {
    "ExecuteTime": {
     "end_time": "2025-09-26T02:20:49.021982Z",
     "start_time": "2025-09-26T02:20:49.006068Z"
    }
   },
   "source": [
    "# We can remove the station\n",
    "current_columns = df_noaa_copy.columns\n",
    "if \"STATION\" in current_columns:\n",
    "    df_noaa_copy.drop(\"STATION\", axis=1, inplace=True)\n",
    "if \"LONGITUDE\" in current_columns:\n",
    "    df_noaa_copy.drop(\"LONGITUDE\", axis=1, inplace=True)\n",
    "if \"LATITUDE\" in current_columns:\n",
    "    df_noaa_copy.drop(\"LATITUDE\", axis=1, inplace=True)\n",
    "if \"NAME\" in current_columns:\n",
    "    df_noaa_copy.drop(\"NAME\", axis=1, inplace=True)\n",
    "if \"ELEVATION\" in current_columns:\n",
    "    df_noaa_copy.drop(\"ELEVATION\", axis=1, inplace=True)\n",
    "if \"location_id\" not in current_columns:\n",
    "    df_noaa_copy.loc[:, \"location_id\"] = 1\n",
    "df_noaa_copy.info()"
   ],
   "outputs": [
    {
     "name": "stdout",
     "output_type": "stream",
     "text": [
      "<class 'pandas.core.frame.DataFrame'>\n",
      "RangeIndex: 930 entries, 0 to 929\n",
      "Data columns (total 41 columns):\n",
      " #   Column       Non-Null Count  Dtype         \n",
      "---  ------       --------------  -----         \n",
      " 0   DATE         930 non-null    object        \n",
      " 1   CDSD         912 non-null    float64       \n",
      " 2   CLDD         926 non-null    float64       \n",
      " 3   DP01         930 non-null    Int64         \n",
      " 4   DP10         930 non-null    Int64         \n",
      " 5   DP1X         930 non-null    Int64         \n",
      " 6   DSND         804 non-null    Int64         \n",
      " 7   DSNW         912 non-null    Int64         \n",
      " 8   DT00         927 non-null    Int64         \n",
      " 9   DT32         927 non-null    Int64         \n",
      " 10  DX32         926 non-null    Int64         \n",
      " 11  DX70         926 non-null    Int64         \n",
      " 12  DX90         926 non-null    Int64         \n",
      " 13  DYFG         585 non-null    Int64         \n",
      " 14  DYHF         271 non-null    Int64         \n",
      " 15  DYNT         927 non-null    Int64         \n",
      " 16  DYSD         804 non-null    Int64         \n",
      " 17  DYSN         912 non-null    Int64         \n",
      " 18  DYTS         470 non-null    Int64         \n",
      " 19  DYXP         930 non-null    Int64         \n",
      " 20  DYXT         926 non-null    Int64         \n",
      " 21  EMNT         927 non-null    float64       \n",
      " 22  EMSD         804 non-null    float64       \n",
      " 23  EMSN         912 non-null    float64       \n",
      " 24  EMXP         930 non-null    float64       \n",
      " 25  EMXT         926 non-null    float64       \n",
      " 26  HDSD         901 non-null    float64       \n",
      " 27  HTDD         926 non-null    float64       \n",
      " 28  PRCP         930 non-null    float64       \n",
      " 29  SNOW         912 non-null    float64       \n",
      " 30  TAVG         926 non-null    float64       \n",
      " 31  TMAX         926 non-null    float64       \n",
      " 32  TMIN         927 non-null    float64       \n",
      " 33  WDF2         334 non-null    Int64         \n",
      " 34  WDF5         309 non-null    Int64         \n",
      " 35  WSF2         334 non-null    float64       \n",
      " 36  WSF5         309 non-null    float64       \n",
      " 37  year         930 non-null    object        \n",
      " 38  month        930 non-null    object        \n",
      " 39  date         930 non-null    datetime64[ns]\n",
      " 40  location_id  930 non-null    int64         \n",
      "dtypes: Int64(20), datetime64[ns](1), float64(16), int64(1), object(3)\n",
      "memory usage: 316.2+ KB\n"
     ]
    }
   ],
   "execution_count": 23
  },
  {
   "cell_type": "markdown",
   "metadata": {},
   "source": "Justification: By simplifying down to a normal form location table we can expand this to join to other data sets by location and date in the future."
  },
  {
   "cell_type": "markdown",
   "metadata": {
    "id": "o51Bt8kwyTzk"
   },
   "source": [
    "### **Tidiness Issue 2**\n",
    "In order to compare the hourly data more efectively we will want to roll it up into a daily record table."
   ]
  },
  {
   "cell_type": "code",
   "metadata": {
    "ExecuteTime": {
     "end_time": "2025-09-26T02:20:49.087720Z",
     "start_time": "2025-09-26T02:20:49.063390Z"
    }
   },
   "source": [
    "df_om_solar_hourly_copy[\"day\"] = df_om_solar_hourly_copy[\"date\"].dt.normalize()\n",
    "df_om_solar_hourly_copy[\"month\"] = df_om_solar_hourly_copy[\"date\"].dt.month\n",
    "df_om_solar_hourly_copy[\"year\"] = df_om_solar_hourly_copy[\"date\"].dt.year\n",
    "df_om_solar_hourly_copy.head()\n",
    "# Add in proper date formatting"
   ],
   "outputs": [
    {
     "data": {
      "text/plain": [
       "   id  location_id                date  shortwave_radiation  direct_radiation  \\\n",
       "0   1            1 2016-02-01 06:00:00                528.0             434.0   \n",
       "1   2            1 2016-02-01 07:00:00                466.0             377.0   \n",
       "2   3            1 2016-02-01 08:00:00                350.0             272.0   \n",
       "3   4            1 2016-02-01 09:00:00                195.0             136.0   \n",
       "4   5            1 2016-02-01 10:00:00                 43.0              22.0   \n",
       "\n",
       "   diffuse_radiation  direct_normal_irradiance  global_tilted_irradiance  \\\n",
       "0               94.0                885.149719                528.000000   \n",
       "1               89.0                852.225464                466.000031   \n",
       "2               78.0                775.896606                350.000000   \n",
       "3               59.0                614.981995                195.000015   \n",
       "4               21.0                200.501968                 43.000000   \n",
       "\n",
       "         day  month  year  \n",
       "0 2016-02-01      2  2016  \n",
       "1 2016-02-01      2  2016  \n",
       "2 2016-02-01      2  2016  \n",
       "3 2016-02-01      2  2016  \n",
       "4 2016-02-01      2  2016  "
      ],
      "text/html": [
       "<div>\n",
       "<style scoped>\n",
       "    .dataframe tbody tr th:only-of-type {\n",
       "        vertical-align: middle;\n",
       "    }\n",
       "\n",
       "    .dataframe tbody tr th {\n",
       "        vertical-align: top;\n",
       "    }\n",
       "\n",
       "    .dataframe thead th {\n",
       "        text-align: right;\n",
       "    }\n",
       "</style>\n",
       "<table border=\"1\" class=\"dataframe\">\n",
       "  <thead>\n",
       "    <tr style=\"text-align: right;\">\n",
       "      <th></th>\n",
       "      <th>id</th>\n",
       "      <th>location_id</th>\n",
       "      <th>date</th>\n",
       "      <th>shortwave_radiation</th>\n",
       "      <th>direct_radiation</th>\n",
       "      <th>diffuse_radiation</th>\n",
       "      <th>direct_normal_irradiance</th>\n",
       "      <th>global_tilted_irradiance</th>\n",
       "      <th>day</th>\n",
       "      <th>month</th>\n",
       "      <th>year</th>\n",
       "    </tr>\n",
       "  </thead>\n",
       "  <tbody>\n",
       "    <tr>\n",
       "      <th>0</th>\n",
       "      <td>1</td>\n",
       "      <td>1</td>\n",
       "      <td>2016-02-01 06:00:00</td>\n",
       "      <td>528.0</td>\n",
       "      <td>434.0</td>\n",
       "      <td>94.0</td>\n",
       "      <td>885.149719</td>\n",
       "      <td>528.000000</td>\n",
       "      <td>2016-02-01</td>\n",
       "      <td>2</td>\n",
       "      <td>2016</td>\n",
       "    </tr>\n",
       "    <tr>\n",
       "      <th>1</th>\n",
       "      <td>2</td>\n",
       "      <td>1</td>\n",
       "      <td>2016-02-01 07:00:00</td>\n",
       "      <td>466.0</td>\n",
       "      <td>377.0</td>\n",
       "      <td>89.0</td>\n",
       "      <td>852.225464</td>\n",
       "      <td>466.000031</td>\n",
       "      <td>2016-02-01</td>\n",
       "      <td>2</td>\n",
       "      <td>2016</td>\n",
       "    </tr>\n",
       "    <tr>\n",
       "      <th>2</th>\n",
       "      <td>3</td>\n",
       "      <td>1</td>\n",
       "      <td>2016-02-01 08:00:00</td>\n",
       "      <td>350.0</td>\n",
       "      <td>272.0</td>\n",
       "      <td>78.0</td>\n",
       "      <td>775.896606</td>\n",
       "      <td>350.000000</td>\n",
       "      <td>2016-02-01</td>\n",
       "      <td>2</td>\n",
       "      <td>2016</td>\n",
       "    </tr>\n",
       "    <tr>\n",
       "      <th>3</th>\n",
       "      <td>4</td>\n",
       "      <td>1</td>\n",
       "      <td>2016-02-01 09:00:00</td>\n",
       "      <td>195.0</td>\n",
       "      <td>136.0</td>\n",
       "      <td>59.0</td>\n",
       "      <td>614.981995</td>\n",
       "      <td>195.000015</td>\n",
       "      <td>2016-02-01</td>\n",
       "      <td>2</td>\n",
       "      <td>2016</td>\n",
       "    </tr>\n",
       "    <tr>\n",
       "      <th>4</th>\n",
       "      <td>5</td>\n",
       "      <td>1</td>\n",
       "      <td>2016-02-01 10:00:00</td>\n",
       "      <td>43.0</td>\n",
       "      <td>22.0</td>\n",
       "      <td>21.0</td>\n",
       "      <td>200.501968</td>\n",
       "      <td>43.000000</td>\n",
       "      <td>2016-02-01</td>\n",
       "      <td>2</td>\n",
       "      <td>2016</td>\n",
       "    </tr>\n",
       "  </tbody>\n",
       "</table>\n",
       "</div>"
      ]
     },
     "execution_count": 24,
     "metadata": {},
     "output_type": "execute_result"
    }
   ],
   "execution_count": 24
  },
  {
   "cell_type": "code",
   "metadata": {
    "ExecuteTime": {
     "end_time": "2025-09-26T02:20:49.183070Z",
     "start_time": "2025-09-26T02:20:49.139024Z"
    }
   },
   "source": [
    "df_om_solar_agg_monthly = (\n",
    "    df_om_solar_hourly_copy.groupby([\"month\", \"year\"])\n",
    "    .agg(\n",
    "        avg_shortwave_radiation=(\"shortwave_radiation\", \"mean\"),\n",
    "        max_shortwave_radiation=(\"shortwave_radiation\", \"max\"),\n",
    "        min_shortwave_radiation=(\"shortwave_radiation\", \"min\"),\n",
    "        avg_direct_radiation=(\"direct_radiation\", \"mean\"),\n",
    "        max_direct_radiation=(\"direct_radiation\", \"max\"),\n",
    "        min_direct_radiation=(\"direct_radiation\", \"min\"),\n",
    "        avg_direct_normal_irradiance=(\"direct_normal_irradiance\", \"mean\"),\n",
    "        max_direct_normal_irradiance=(\"direct_normal_irradiance\", \"max\"),\n",
    "        min_direct_normal_irradiance=(\"direct_normal_irradiance\", \"min\"),\n",
    "        avg_global_tilted_irradiance=(\"global_tilted_irradiance\", \"mean\"),\n",
    "        max_global_tilted_irradiance=(\"global_tilted_irradiance\", \"max\"),\n",
    "        min_global_tilted_irradiance=(\"global_tilted_irradiance\", \"min\"),\n",
    "    )\n",
    "    .reset_index()\n",
    ")\n",
    "df_om_solar_agg_monthly"
   ],
   "outputs": [
    {
     "data": {
      "text/plain": [
       "     month  year  avg_shortwave_radiation  max_shortwave_radiation  \\\n",
       "0        1  2017               106.275538                    532.0   \n",
       "1        1  2018               103.920699                    518.0   \n",
       "2        1  2019               105.744624                    532.0   \n",
       "3        1  2020               104.388441                    513.0   \n",
       "4        1  2021               107.873656                    521.0   \n",
       "..     ...   ...                      ...                      ...   \n",
       "110     12  2020                91.663978                    431.0   \n",
       "111     12  2021                88.944892                    421.0   \n",
       "112     12  2022                89.751344                    445.0   \n",
       "113     12  2023                84.737903                    422.0   \n",
       "114     12  2024                87.478495                    423.0   \n",
       "\n",
       "     min_shortwave_radiation  avg_direct_radiation  max_direct_radiation  \\\n",
       "0                        0.0             76.491935                 430.0   \n",
       "1                        0.0             72.037634                 416.0   \n",
       "2                        0.0             75.193548                 431.0   \n",
       "3                        0.0             73.419355                 419.0   \n",
       "4                        0.0             79.548387                 432.0   \n",
       "..                       ...                   ...                   ...   \n",
       "110                      0.0             64.247312                 346.0   \n",
       "111                      0.0             60.627688                 334.0   \n",
       "112                      0.0             59.200269                 329.0   \n",
       "113                      0.0             54.111559                 320.0   \n",
       "114                      0.0             56.943548                 329.0   \n",
       "\n",
       "     min_direct_radiation  avg_direct_normal_irradiance  \\\n",
       "0                     0.0                    226.127309   \n",
       "1                     0.0                    212.351794   \n",
       "2                     0.0                    222.891740   \n",
       "3                     0.0                    217.949628   \n",
       "4                     0.0                    236.134299   \n",
       "..                    ...                           ...   \n",
       "110                   0.0                    205.938450   \n",
       "111                   0.0                    193.590880   \n",
       "112                   0.0                    188.253994   \n",
       "113                   0.0                    171.621420   \n",
       "114                   0.0                    181.165594   \n",
       "\n",
       "     max_direct_normal_irradiance  min_direct_normal_irradiance  \\\n",
       "0                      878.051331                           0.0   \n",
       "1                      881.876587                           0.0   \n",
       "2                      883.115051                           0.0   \n",
       "3                      871.238708                           0.0   \n",
       "4                      883.509460                           0.0   \n",
       "..                            ...                           ...   \n",
       "110                    855.729492                           0.0   \n",
       "111                    832.230835                           0.0   \n",
       "112                    817.274902                           0.0   \n",
       "113                    801.503723                           0.0   \n",
       "114                    816.786926                           0.0   \n",
       "\n",
       "     avg_global_tilted_irradiance  max_global_tilted_irradiance  \\\n",
       "0                      106.275538                    532.000000   \n",
       "1                      103.920699                    517.999939   \n",
       "2                      105.744625                    532.000000   \n",
       "3                      104.388440                    512.999939   \n",
       "4                      107.873655                    521.000000   \n",
       "..                            ...                           ...   \n",
       "110                     91.663978                    430.999969   \n",
       "111                     88.944892                    420.999939   \n",
       "112                     89.751344                    445.000000   \n",
       "113                     84.737904                    422.000000   \n",
       "114                     87.478495                    422.999939   \n",
       "\n",
       "     min_global_tilted_irradiance  \n",
       "0                             0.0  \n",
       "1                             0.0  \n",
       "2                             0.0  \n",
       "3                             0.0  \n",
       "4                             0.0  \n",
       "..                            ...  \n",
       "110                           0.0  \n",
       "111                           0.0  \n",
       "112                           0.0  \n",
       "113                           0.0  \n",
       "114                           0.0  \n",
       "\n",
       "[115 rows x 14 columns]"
      ],
      "text/html": [
       "<div>\n",
       "<style scoped>\n",
       "    .dataframe tbody tr th:only-of-type {\n",
       "        vertical-align: middle;\n",
       "    }\n",
       "\n",
       "    .dataframe tbody tr th {\n",
       "        vertical-align: top;\n",
       "    }\n",
       "\n",
       "    .dataframe thead th {\n",
       "        text-align: right;\n",
       "    }\n",
       "</style>\n",
       "<table border=\"1\" class=\"dataframe\">\n",
       "  <thead>\n",
       "    <tr style=\"text-align: right;\">\n",
       "      <th></th>\n",
       "      <th>month</th>\n",
       "      <th>year</th>\n",
       "      <th>avg_shortwave_radiation</th>\n",
       "      <th>max_shortwave_radiation</th>\n",
       "      <th>min_shortwave_radiation</th>\n",
       "      <th>avg_direct_radiation</th>\n",
       "      <th>max_direct_radiation</th>\n",
       "      <th>min_direct_radiation</th>\n",
       "      <th>avg_direct_normal_irradiance</th>\n",
       "      <th>max_direct_normal_irradiance</th>\n",
       "      <th>min_direct_normal_irradiance</th>\n",
       "      <th>avg_global_tilted_irradiance</th>\n",
       "      <th>max_global_tilted_irradiance</th>\n",
       "      <th>min_global_tilted_irradiance</th>\n",
       "    </tr>\n",
       "  </thead>\n",
       "  <tbody>\n",
       "    <tr>\n",
       "      <th>0</th>\n",
       "      <td>1</td>\n",
       "      <td>2017</td>\n",
       "      <td>106.275538</td>\n",
       "      <td>532.0</td>\n",
       "      <td>0.0</td>\n",
       "      <td>76.491935</td>\n",
       "      <td>430.0</td>\n",
       "      <td>0.0</td>\n",
       "      <td>226.127309</td>\n",
       "      <td>878.051331</td>\n",
       "      <td>0.0</td>\n",
       "      <td>106.275538</td>\n",
       "      <td>532.000000</td>\n",
       "      <td>0.0</td>\n",
       "    </tr>\n",
       "    <tr>\n",
       "      <th>1</th>\n",
       "      <td>1</td>\n",
       "      <td>2018</td>\n",
       "      <td>103.920699</td>\n",
       "      <td>518.0</td>\n",
       "      <td>0.0</td>\n",
       "      <td>72.037634</td>\n",
       "      <td>416.0</td>\n",
       "      <td>0.0</td>\n",
       "      <td>212.351794</td>\n",
       "      <td>881.876587</td>\n",
       "      <td>0.0</td>\n",
       "      <td>103.920699</td>\n",
       "      <td>517.999939</td>\n",
       "      <td>0.0</td>\n",
       "    </tr>\n",
       "    <tr>\n",
       "      <th>2</th>\n",
       "      <td>1</td>\n",
       "      <td>2019</td>\n",
       "      <td>105.744624</td>\n",
       "      <td>532.0</td>\n",
       "      <td>0.0</td>\n",
       "      <td>75.193548</td>\n",
       "      <td>431.0</td>\n",
       "      <td>0.0</td>\n",
       "      <td>222.891740</td>\n",
       "      <td>883.115051</td>\n",
       "      <td>0.0</td>\n",
       "      <td>105.744625</td>\n",
       "      <td>532.000000</td>\n",
       "      <td>0.0</td>\n",
       "    </tr>\n",
       "    <tr>\n",
       "      <th>3</th>\n",
       "      <td>1</td>\n",
       "      <td>2020</td>\n",
       "      <td>104.388441</td>\n",
       "      <td>513.0</td>\n",
       "      <td>0.0</td>\n",
       "      <td>73.419355</td>\n",
       "      <td>419.0</td>\n",
       "      <td>0.0</td>\n",
       "      <td>217.949628</td>\n",
       "      <td>871.238708</td>\n",
       "      <td>0.0</td>\n",
       "      <td>104.388440</td>\n",
       "      <td>512.999939</td>\n",
       "      <td>0.0</td>\n",
       "    </tr>\n",
       "    <tr>\n",
       "      <th>4</th>\n",
       "      <td>1</td>\n",
       "      <td>2021</td>\n",
       "      <td>107.873656</td>\n",
       "      <td>521.0</td>\n",
       "      <td>0.0</td>\n",
       "      <td>79.548387</td>\n",
       "      <td>432.0</td>\n",
       "      <td>0.0</td>\n",
       "      <td>236.134299</td>\n",
       "      <td>883.509460</td>\n",
       "      <td>0.0</td>\n",
       "      <td>107.873655</td>\n",
       "      <td>521.000000</td>\n",
       "      <td>0.0</td>\n",
       "    </tr>\n",
       "    <tr>\n",
       "      <th>...</th>\n",
       "      <td>...</td>\n",
       "      <td>...</td>\n",
       "      <td>...</td>\n",
       "      <td>...</td>\n",
       "      <td>...</td>\n",
       "      <td>...</td>\n",
       "      <td>...</td>\n",
       "      <td>...</td>\n",
       "      <td>...</td>\n",
       "      <td>...</td>\n",
       "      <td>...</td>\n",
       "      <td>...</td>\n",
       "      <td>...</td>\n",
       "      <td>...</td>\n",
       "    </tr>\n",
       "    <tr>\n",
       "      <th>110</th>\n",
       "      <td>12</td>\n",
       "      <td>2020</td>\n",
       "      <td>91.663978</td>\n",
       "      <td>431.0</td>\n",
       "      <td>0.0</td>\n",
       "      <td>64.247312</td>\n",
       "      <td>346.0</td>\n",
       "      <td>0.0</td>\n",
       "      <td>205.938450</td>\n",
       "      <td>855.729492</td>\n",
       "      <td>0.0</td>\n",
       "      <td>91.663978</td>\n",
       "      <td>430.999969</td>\n",
       "      <td>0.0</td>\n",
       "    </tr>\n",
       "    <tr>\n",
       "      <th>111</th>\n",
       "      <td>12</td>\n",
       "      <td>2021</td>\n",
       "      <td>88.944892</td>\n",
       "      <td>421.0</td>\n",
       "      <td>0.0</td>\n",
       "      <td>60.627688</td>\n",
       "      <td>334.0</td>\n",
       "      <td>0.0</td>\n",
       "      <td>193.590880</td>\n",
       "      <td>832.230835</td>\n",
       "      <td>0.0</td>\n",
       "      <td>88.944892</td>\n",
       "      <td>420.999939</td>\n",
       "      <td>0.0</td>\n",
       "    </tr>\n",
       "    <tr>\n",
       "      <th>112</th>\n",
       "      <td>12</td>\n",
       "      <td>2022</td>\n",
       "      <td>89.751344</td>\n",
       "      <td>445.0</td>\n",
       "      <td>0.0</td>\n",
       "      <td>59.200269</td>\n",
       "      <td>329.0</td>\n",
       "      <td>0.0</td>\n",
       "      <td>188.253994</td>\n",
       "      <td>817.274902</td>\n",
       "      <td>0.0</td>\n",
       "      <td>89.751344</td>\n",
       "      <td>445.000000</td>\n",
       "      <td>0.0</td>\n",
       "    </tr>\n",
       "    <tr>\n",
       "      <th>113</th>\n",
       "      <td>12</td>\n",
       "      <td>2023</td>\n",
       "      <td>84.737903</td>\n",
       "      <td>422.0</td>\n",
       "      <td>0.0</td>\n",
       "      <td>54.111559</td>\n",
       "      <td>320.0</td>\n",
       "      <td>0.0</td>\n",
       "      <td>171.621420</td>\n",
       "      <td>801.503723</td>\n",
       "      <td>0.0</td>\n",
       "      <td>84.737904</td>\n",
       "      <td>422.000000</td>\n",
       "      <td>0.0</td>\n",
       "    </tr>\n",
       "    <tr>\n",
       "      <th>114</th>\n",
       "      <td>12</td>\n",
       "      <td>2024</td>\n",
       "      <td>87.478495</td>\n",
       "      <td>423.0</td>\n",
       "      <td>0.0</td>\n",
       "      <td>56.943548</td>\n",
       "      <td>329.0</td>\n",
       "      <td>0.0</td>\n",
       "      <td>181.165594</td>\n",
       "      <td>816.786926</td>\n",
       "      <td>0.0</td>\n",
       "      <td>87.478495</td>\n",
       "      <td>422.999939</td>\n",
       "      <td>0.0</td>\n",
       "    </tr>\n",
       "  </tbody>\n",
       "</table>\n",
       "<p>115 rows × 14 columns</p>\n",
       "</div>"
      ]
     },
     "execution_count": 25,
     "metadata": {},
     "output_type": "execute_result"
    }
   ],
   "execution_count": 25
  },
  {
   "cell_type": "code",
   "metadata": {
    "ExecuteTime": {
     "end_time": "2025-09-26T02:20:49.418724Z",
     "start_time": "2025-09-26T02:20:49.410037Z"
    }
   },
   "source": [
    "# Add location ID and month column to monthly DF\n",
    "df_om_solar_agg_monthly[\"location_id\"] = (\n",
    "    1  # Current default location is 1 for Lander, Wyoming\n",
    ")\n",
    "df_om_solar_agg_monthly[\"date\"] = (\n",
    "    df_om_solar_agg_monthly[\"year\"].astype(str)\n",
    "    + \"-\"\n",
    "    + df_om_solar_agg_monthly[\"month\"].astype(str)\n",
    ")\n",
    "# Will default to the first day of the month\n",
    "df_om_solar_agg_monthly[\"date\"] = pd.to_datetime(df_om_solar_agg_monthly[\"date\"])\n",
    "df_om_solar_agg_monthly[\"date\"].head()"
   ],
   "outputs": [
    {
     "data": {
      "text/plain": [
       "0   2017-01-01\n",
       "1   2018-01-01\n",
       "2   2019-01-01\n",
       "3   2020-01-01\n",
       "4   2021-01-01\n",
       "Name: date, dtype: datetime64[ns]"
      ]
     },
     "execution_count": 26,
     "metadata": {},
     "output_type": "execute_result"
    }
   ],
   "execution_count": 26
  },
  {
   "cell_type": "code",
   "metadata": {
    "id": "q6I_Sr7lxXi5",
    "ExecuteTime": {
     "end_time": "2025-09-26T02:20:49.678657Z",
     "start_time": "2025-09-26T02:20:49.674435Z"
    }
   },
   "source": [
    "df_om_solar_agg_monthly.columns"
   ],
   "outputs": [
    {
     "data": {
      "text/plain": [
       "Index(['month', 'year', 'avg_shortwave_radiation', 'max_shortwave_radiation',\n",
       "       'min_shortwave_radiation', 'avg_direct_radiation',\n",
       "       'max_direct_radiation', 'min_direct_radiation',\n",
       "       'avg_direct_normal_irradiance', 'max_direct_normal_irradiance',\n",
       "       'min_direct_normal_irradiance', 'avg_global_tilted_irradiance',\n",
       "       'max_global_tilted_irradiance', 'min_global_tilted_irradiance',\n",
       "       'location_id', 'date'],\n",
       "      dtype='object')"
      ]
     },
     "execution_count": 27,
     "metadata": {},
     "output_type": "execute_result"
    }
   ],
   "execution_count": 27
  },
  {
   "cell_type": "markdown",
   "metadata": {},
   "source": [
    "### **Remove unnecessary variables and combine datasets**\n",
    "\n",
    "Depending on the datasets, you can also peform the combination before the cleaning steps."
   ]
  },
  {
   "cell_type": "code",
   "metadata": {
    "ExecuteTime": {
     "end_time": "2025-09-26T02:20:49.716568Z",
     "start_time": "2025-09-26T02:20:49.711016Z"
    }
   },
   "source": [
    "# Ensure column ordering matches models.py file\n",
    "df_om_solar_agg_monthly_final = df_om_solar_agg_monthly[\n",
    "    [\n",
    "        \"location_id\",\n",
    "        \"date\",\n",
    "        \"avg_shortwave_radiation\",\n",
    "        \"max_shortwave_radiation\",\n",
    "        \"min_shortwave_radiation\",\n",
    "        \"avg_direct_radiation\",\n",
    "        \"max_direct_radiation\",\n",
    "        \"min_direct_radiation\",\n",
    "        \"avg_direct_normal_irradiance\",\n",
    "        \"max_direct_normal_irradiance\",\n",
    "        \"min_direct_normal_irradiance\",\n",
    "        \"avg_global_tilted_irradiance\",\n",
    "        \"max_global_tilted_irradiance\",\n",
    "        \"min_global_tilted_irradiance\",\n",
    "    ]\n",
    "]\n",
    "\n",
    "df_noaa_final = df_noaa_copy[\n",
    "    [\n",
    "        \"location_id\",\n",
    "        \"date\",\n",
    "        \"CDSD\",\n",
    "        \"CLDD\",\n",
    "        \"DP01\",\n",
    "        \"DP10\",\n",
    "        \"DP1X\",\n",
    "        \"DSND\",\n",
    "        \"DSNW\",\n",
    "        \"DT00\",\n",
    "        \"DT32\",\n",
    "        \"DX32\",\n",
    "        \"DX70\",\n",
    "        \"DX90\",\n",
    "        \"DYFG\",\n",
    "        \"DYHF\",\n",
    "        \"DYNT\",\n",
    "        \"DYSD\",\n",
    "        \"DYSN\",\n",
    "        \"DYTS\",\n",
    "        \"DYXP\",\n",
    "        \"DYXT\",\n",
    "        \"EMNT\",\n",
    "        \"EMSD\",\n",
    "        \"EMSN\",\n",
    "        \"EMXP\",\n",
    "        \"EMXT\",\n",
    "        \"HDSD\",\n",
    "        \"HTDD\",\n",
    "        \"PRCP\",\n",
    "        \"SNOW\",\n",
    "        \"TAVG\",\n",
    "        \"TMAX\",\n",
    "        \"TMIN\",\n",
    "        \"WDF2\",\n",
    "        \"WDF5\",\n",
    "        \"WSF2\",\n",
    "        \"WSF5\",\n",
    "    ]\n",
    "]"
   ],
   "outputs": [],
   "execution_count": 28
  },
  {
   "cell_type": "markdown",
   "metadata": {
    "id": "F42urHuzttjF"
   },
   "source": [
    "## 4. Update your data store\n",
    "Update your local database/data store with the cleaned data, following best practices for storing your cleaned data:\n",
    "\n",
    "- Must maintain different instances / versions of data (raw and cleaned data)\n",
    "- Must name the dataset files informatively\n",
    "- Ensure both the raw and cleaned data is saved to your database/data store"
   ]
  },
  {
   "cell_type": "code",
   "metadata": {
    "ExecuteTime": {
     "end_time": "2025-09-26T02:20:49.741882Z",
     "start_time": "2025-09-26T02:20:49.734815Z"
    }
   },
   "source": [
    "# Clear out any existing records in the daily_weather table\n",
    "OMSolarMonthlyWeatherRecord.__table__.drop(ENGINE, checkfirst=True)\n",
    "OMSolarMonthlyWeatherRecord.__table__.create(ENGINE, checkfirst=True)"
   ],
   "outputs": [],
   "execution_count": 29
  },
  {
   "cell_type": "code",
   "metadata": {
    "id": "V3uay7EJUV_L",
    "ExecuteTime": {
     "end_time": "2025-09-26T02:20:49.764228Z",
     "start_time": "2025-09-26T02:20:49.746707Z"
    }
   },
   "source": [
    "monthly_records = df_om_solar_agg_monthly_final.to_dict(orient=\"records\")\n",
    "monthly_stmt = insert(OMSolarMonthlyWeatherRecord)\n",
    "with ENGINE.begin() as conn:\n",
    "    for _m in monthly_records:\n",
    "        conn.execute(monthly_stmt, _m)\n",
    "    conn.commit()"
   ],
   "outputs": [],
   "execution_count": 30
  },
  {
   "cell_type": "code",
   "metadata": {
    "ExecuteTime": {
     "end_time": "2025-09-26T02:20:49.779064Z",
     "start_time": "2025-09-26T02:20:49.771613Z"
    }
   },
   "source": [
    "# Drop the table prior to import\n",
    "NOAAStationMonthlySummary.__table__.drop(ENGINE, checkfirst=True)\n",
    "NOAAStationMonthlySummary.__table__.create(ENGINE, checkfirst=True)"
   ],
   "outputs": [],
   "execution_count": 31
  },
  {
   "cell_type": "code",
   "metadata": {
    "ExecuteTime": {
     "end_time": "2025-09-26T02:20:49.865901Z",
     "start_time": "2025-09-26T02:20:49.784458Z"
    }
   },
   "source": [
    "# Store the records for later retrieval\n",
    "records = df_noaa_final.to_dict(orient=\"records\")\n",
    "stmt = insert(NOAAStationMonthlySummary)\n",
    "with ENGINE.begin() as conn:\n",
    "    for record in records:\n",
    "        conn.execute(stmt, record)\n",
    "    conn.commit()"
   ],
   "outputs": [],
   "execution_count": 32
  },
  {
   "cell_type": "markdown",
   "metadata": {},
   "source": "## Combine the datasets for analysis\n"
  },
  {
   "cell_type": "code",
   "metadata": {
    "ExecuteTime": {
     "end_time": "2025-09-26T02:20:49.928102Z",
     "start_time": "2025-09-26T02:20:49.873358Z"
    }
   },
   "source": [
    "# Fetch the cleaned date for merging\n",
    "_df_noaa_monthly_summary = pd.read_sql_table(\"noaa_monthly_summary\", ENGINE)\n",
    "_df_om_monthly_summary = pd.read_sql_table(\"om_solar_monthly_weather\", ENGINE)"
   ],
   "outputs": [],
   "execution_count": 33
  },
  {
   "cell_type": "code",
   "metadata": {
    "ExecuteTime": {
     "end_time": "2025-09-26T02:20:49.946480Z",
     "start_time": "2025-09-26T02:20:49.935350Z"
    }
   },
   "source": [
    "_df_noaa_monthly_summary.info()"
   ],
   "outputs": [
    {
     "name": "stdout",
     "output_type": "stream",
     "text": [
      "<class 'pandas.core.frame.DataFrame'>\n",
      "RangeIndex: 930 entries, 0 to 929\n",
      "Data columns (total 39 columns):\n",
      " #   Column       Non-Null Count  Dtype         \n",
      "---  ------       --------------  -----         \n",
      " 0   id           930 non-null    int64         \n",
      " 1   location_id  930 non-null    int64         \n",
      " 2   date         930 non-null    datetime64[ns]\n",
      " 3   CDSD         912 non-null    float64       \n",
      " 4   CLDD         926 non-null    float64       \n",
      " 5   DP01         930 non-null    int64         \n",
      " 6   DP10         930 non-null    int64         \n",
      " 7   DP1X         930 non-null    int64         \n",
      " 8   DSND         804 non-null    float64       \n",
      " 9   DSNW         912 non-null    float64       \n",
      " 10  DT00         927 non-null    float64       \n",
      " 11  DT32         927 non-null    float64       \n",
      " 12  DX32         926 non-null    float64       \n",
      " 13  DX70         926 non-null    float64       \n",
      " 14  DX90         926 non-null    float64       \n",
      " 15  DYFG         585 non-null    float64       \n",
      " 16  DYHF         271 non-null    float64       \n",
      " 17  DYNT         927 non-null    float64       \n",
      " 18  DYSD         804 non-null    float64       \n",
      " 19  DYSN         912 non-null    float64       \n",
      " 20  DYTS         470 non-null    float64       \n",
      " 21  DYXP         930 non-null    int64         \n",
      " 22  DYXT         926 non-null    float64       \n",
      " 23  EMNT         927 non-null    float64       \n",
      " 24  EMSD         804 non-null    float64       \n",
      " 25  EMSN         912 non-null    float64       \n",
      " 26  EMXP         930 non-null    float64       \n",
      " 27  EMXT         926 non-null    float64       \n",
      " 28  HDSD         901 non-null    float64       \n",
      " 29  HTDD         926 non-null    float64       \n",
      " 30  PRCP         930 non-null    float64       \n",
      " 31  SNOW         912 non-null    float64       \n",
      " 32  TAVG         926 non-null    float64       \n",
      " 33  TMAX         926 non-null    float64       \n",
      " 34  TMIN         927 non-null    float64       \n",
      " 35  WDF2         334 non-null    float64       \n",
      " 36  WDF5         309 non-null    float64       \n",
      " 37  WSF2         334 non-null    float64       \n",
      " 38  WSF5         309 non-null    float64       \n",
      "dtypes: datetime64[ns](1), float64(32), int64(6)\n",
      "memory usage: 283.5 KB\n"
     ]
    }
   ],
   "execution_count": 34
  },
  {
   "cell_type": "code",
   "metadata": {
    "ExecuteTime": {
     "end_time": "2025-09-26T02:20:49.980042Z",
     "start_time": "2025-09-26T02:20:49.974553Z"
    }
   },
   "source": "_df_om_monthly_summary.columns",
   "outputs": [
    {
     "data": {
      "text/plain": [
       "Index(['id', 'location_id', 'date', 'avg_shortwave_radiation',\n",
       "       'max_shortwave_radiation', 'min_shortwave_radiation',\n",
       "       'avg_direct_radiation', 'max_direct_radiation', 'min_direct_radiation',\n",
       "       'avg_direct_normal_irradiance', 'max_direct_normal_irradiance',\n",
       "       'min_direct_normal_irradiance', 'avg_global_tilted_irradiance',\n",
       "       'max_global_tilted_irradiance', 'min_global_tilted_irradiance'],\n",
       "      dtype='object')"
      ]
     },
     "execution_count": 35,
     "metadata": {},
     "output_type": "execute_result"
    }
   ],
   "execution_count": 35
  },
  {
   "cell_type": "code",
   "metadata": {
    "ExecuteTime": {
     "end_time": "2025-09-26T02:20:49.993760Z",
     "start_time": "2025-09-26T02:20:49.987446Z"
    }
   },
   "source": [
    "# Ensure proper date format prior to merge\n",
    "_df_noaa_monthly_summary[\"date\"] = _df_noaa_monthly_summary[\"date\"].dt.normalize()\n",
    "_df_noaa_monthly_summary[\"date\"].head()"
   ],
   "outputs": [
    {
     "data": {
      "text/plain": [
       "0   1948-01-01\n",
       "1   1948-02-01\n",
       "2   1948-03-01\n",
       "3   1948-04-01\n",
       "4   1948-05-01\n",
       "Name: date, dtype: datetime64[ns]"
      ]
     },
     "execution_count": 36,
     "metadata": {},
     "output_type": "execute_result"
    }
   ],
   "execution_count": 36
  },
  {
   "cell_type": "code",
   "metadata": {
    "ExecuteTime": {
     "end_time": "2025-09-26T02:20:50.054188Z",
     "start_time": "2025-09-26T02:20:50.048445Z"
    }
   },
   "source": [
    "_df_om_monthly_summary[\"date\"] = _df_om_monthly_summary[\"date\"].dt.normalize()\n",
    "_df_om_monthly_summary[\"date\"].head()"
   ],
   "outputs": [
    {
     "data": {
      "text/plain": [
       "0   2017-01-01\n",
       "1   2018-01-01\n",
       "2   2019-01-01\n",
       "3   2020-01-01\n",
       "4   2021-01-01\n",
       "Name: date, dtype: datetime64[ns]"
      ]
     },
     "execution_count": 37,
     "metadata": {},
     "output_type": "execute_result"
    }
   ],
   "execution_count": 37
  },
  {
   "cell_type": "code",
   "metadata": {
    "ExecuteTime": {
     "end_time": "2025-09-26T02:20:50.326951Z",
     "start_time": "2025-09-26T02:20:50.307547Z"
    }
   },
   "source": [
    "# Remove Unnecessary fields and sort in chronological order\n",
    "_df_om_monthly_final = _df_om_monthly_summary.drop([\"id\", \"location_id\"], axis=1).sort_values(by=[\"date\"])\n",
    "_df_om_monthly_final.head()"
   ],
   "outputs": [
    {
     "data": {
      "text/plain": [
       "         date  avg_shortwave_radiation  max_shortwave_radiation  \\\n",
       "9  2016-02-01               148.507246                    678.0   \n",
       "19 2016-03-01               210.391129                    817.0   \n",
       "29 2016-04-01               252.448611                    870.0   \n",
       "39 2016-05-01               264.024194                    951.0   \n",
       "49 2016-06-01               273.031944                    958.0   \n",
       "\n",
       "    min_shortwave_radiation  avg_direct_radiation  max_direct_radiation  \\\n",
       "9                       0.0            109.004348                 554.0   \n",
       "19                      0.0            149.904570                 654.0   \n",
       "29                      0.0            165.727778                 661.0   \n",
       "39                      0.0            169.279570                 760.0   \n",
       "49                      0.0            167.748611                 778.0   \n",
       "\n",
       "    min_direct_radiation  avg_direct_normal_irradiance  \\\n",
       "9                    0.0                    257.757853   \n",
       "19                   0.0                    282.048133   \n",
       "29                   0.0                    256.356233   \n",
       "39                   0.0                    244.536655   \n",
       "49                   0.0                    240.540496   \n",
       "\n",
       "    max_direct_normal_irradiance  min_direct_normal_irradiance  \\\n",
       "9                     905.975525                           0.0   \n",
       "19                    926.295837                           0.0   \n",
       "29                    816.187073                           0.0   \n",
       "39                    817.605103                           0.0   \n",
       "49                    836.895386                           0.0   \n",
       "\n",
       "    avg_global_tilted_irradiance  max_global_tilted_irradiance  \\\n",
       "9                     148.507246                         678.0   \n",
       "19                    210.391129                         817.0   \n",
       "29                    252.448611                         870.0   \n",
       "39                    264.024194                         951.0   \n",
       "49                    273.031944                         958.0   \n",
       "\n",
       "    min_global_tilted_irradiance  \n",
       "9                            0.0  \n",
       "19                           0.0  \n",
       "29                           0.0  \n",
       "39                           0.0  \n",
       "49                           0.0  "
      ],
      "text/html": [
       "<div>\n",
       "<style scoped>\n",
       "    .dataframe tbody tr th:only-of-type {\n",
       "        vertical-align: middle;\n",
       "    }\n",
       "\n",
       "    .dataframe tbody tr th {\n",
       "        vertical-align: top;\n",
       "    }\n",
       "\n",
       "    .dataframe thead th {\n",
       "        text-align: right;\n",
       "    }\n",
       "</style>\n",
       "<table border=\"1\" class=\"dataframe\">\n",
       "  <thead>\n",
       "    <tr style=\"text-align: right;\">\n",
       "      <th></th>\n",
       "      <th>date</th>\n",
       "      <th>avg_shortwave_radiation</th>\n",
       "      <th>max_shortwave_radiation</th>\n",
       "      <th>min_shortwave_radiation</th>\n",
       "      <th>avg_direct_radiation</th>\n",
       "      <th>max_direct_radiation</th>\n",
       "      <th>min_direct_radiation</th>\n",
       "      <th>avg_direct_normal_irradiance</th>\n",
       "      <th>max_direct_normal_irradiance</th>\n",
       "      <th>min_direct_normal_irradiance</th>\n",
       "      <th>avg_global_tilted_irradiance</th>\n",
       "      <th>max_global_tilted_irradiance</th>\n",
       "      <th>min_global_tilted_irradiance</th>\n",
       "    </tr>\n",
       "  </thead>\n",
       "  <tbody>\n",
       "    <tr>\n",
       "      <th>9</th>\n",
       "      <td>2016-02-01</td>\n",
       "      <td>148.507246</td>\n",
       "      <td>678.0</td>\n",
       "      <td>0.0</td>\n",
       "      <td>109.004348</td>\n",
       "      <td>554.0</td>\n",
       "      <td>0.0</td>\n",
       "      <td>257.757853</td>\n",
       "      <td>905.975525</td>\n",
       "      <td>0.0</td>\n",
       "      <td>148.507246</td>\n",
       "      <td>678.0</td>\n",
       "      <td>0.0</td>\n",
       "    </tr>\n",
       "    <tr>\n",
       "      <th>19</th>\n",
       "      <td>2016-03-01</td>\n",
       "      <td>210.391129</td>\n",
       "      <td>817.0</td>\n",
       "      <td>0.0</td>\n",
       "      <td>149.904570</td>\n",
       "      <td>654.0</td>\n",
       "      <td>0.0</td>\n",
       "      <td>282.048133</td>\n",
       "      <td>926.295837</td>\n",
       "      <td>0.0</td>\n",
       "      <td>210.391129</td>\n",
       "      <td>817.0</td>\n",
       "      <td>0.0</td>\n",
       "    </tr>\n",
       "    <tr>\n",
       "      <th>29</th>\n",
       "      <td>2016-04-01</td>\n",
       "      <td>252.448611</td>\n",
       "      <td>870.0</td>\n",
       "      <td>0.0</td>\n",
       "      <td>165.727778</td>\n",
       "      <td>661.0</td>\n",
       "      <td>0.0</td>\n",
       "      <td>256.356233</td>\n",
       "      <td>816.187073</td>\n",
       "      <td>0.0</td>\n",
       "      <td>252.448611</td>\n",
       "      <td>870.0</td>\n",
       "      <td>0.0</td>\n",
       "    </tr>\n",
       "    <tr>\n",
       "      <th>39</th>\n",
       "      <td>2016-05-01</td>\n",
       "      <td>264.024194</td>\n",
       "      <td>951.0</td>\n",
       "      <td>0.0</td>\n",
       "      <td>169.279570</td>\n",
       "      <td>760.0</td>\n",
       "      <td>0.0</td>\n",
       "      <td>244.536655</td>\n",
       "      <td>817.605103</td>\n",
       "      <td>0.0</td>\n",
       "      <td>264.024194</td>\n",
       "      <td>951.0</td>\n",
       "      <td>0.0</td>\n",
       "    </tr>\n",
       "    <tr>\n",
       "      <th>49</th>\n",
       "      <td>2016-06-01</td>\n",
       "      <td>273.031944</td>\n",
       "      <td>958.0</td>\n",
       "      <td>0.0</td>\n",
       "      <td>167.748611</td>\n",
       "      <td>778.0</td>\n",
       "      <td>0.0</td>\n",
       "      <td>240.540496</td>\n",
       "      <td>836.895386</td>\n",
       "      <td>0.0</td>\n",
       "      <td>273.031944</td>\n",
       "      <td>958.0</td>\n",
       "      <td>0.0</td>\n",
       "    </tr>\n",
       "  </tbody>\n",
       "</table>\n",
       "</div>"
      ]
     },
     "execution_count": 38,
     "metadata": {},
     "output_type": "execute_result"
    }
   ],
   "execution_count": 38
  },
  {
   "cell_type": "code",
   "metadata": {
    "ExecuteTime": {
     "end_time": "2025-09-26T02:20:50.431135Z",
     "start_time": "2025-09-26T02:20:50.424308Z"
    }
   },
   "source": [
    "# Merge the dataframes\n",
    "df_merged_monthly_summary = pd.merge(\n",
    "    _df_noaa_monthly_summary, _df_om_monthly_final, on=\"date\", how=\"left\"\n",
    ")\n",
    "assert len(_df_noaa_monthly_summary) == len(df_merged_monthly_summary), \"Ensure left join worked as expected\""
   ],
   "outputs": [],
   "execution_count": 39
  },
  {
   "cell_type": "markdown",
   "metadata": {
    "id": "cGy_yddGtzhM"
   },
   "source": [
    "## 5. Answer the research question\n",
    "\n",
    "### **5.1:** Define and answer the research question \n",
    "Going back to the problem statement in step 1, use the cleaned data to answer the question you raised. Produce **at least** two visualizations using the cleaned data and explain how they help you answer the question."
   ]
  },
  {
   "cell_type": "markdown",
   "metadata": {
    "id": "gjedE4s4ZkEd"
   },
   "source": "*Research question:* How has Lander Wyoming been impacted by Climate Change?"
  },
  {
   "cell_type": "code",
   "metadata": {
    "ExecuteTime": {
     "end_time": "2025-09-26T02:20:50.552623Z",
     "start_time": "2025-09-26T02:20:50.538241Z"
    }
   },
   "source": [
    "# Add in year and month for ease in aggregation\n",
    "df_merged_monthly_summary[\"year\"] = df_merged_monthly_summary[\"date\"].dt.year\n",
    "df_merged_monthly_summary[\"month\"] = df_merged_monthly_summary[\"date\"].dt.month\n",
    "df_merged_monthly_summary.info()"
   ],
   "outputs": [
    {
     "name": "stdout",
     "output_type": "stream",
     "text": [
      "<class 'pandas.core.frame.DataFrame'>\n",
      "RangeIndex: 930 entries, 0 to 929\n",
      "Data columns (total 53 columns):\n",
      " #   Column                        Non-Null Count  Dtype         \n",
      "---  ------                        --------------  -----         \n",
      " 0   id                            930 non-null    int64         \n",
      " 1   location_id                   930 non-null    int64         \n",
      " 2   date                          930 non-null    datetime64[ns]\n",
      " 3   CDSD                          912 non-null    float64       \n",
      " 4   CLDD                          926 non-null    float64       \n",
      " 5   DP01                          930 non-null    int64         \n",
      " 6   DP10                          930 non-null    int64         \n",
      " 7   DP1X                          930 non-null    int64         \n",
      " 8   DSND                          804 non-null    float64       \n",
      " 9   DSNW                          912 non-null    float64       \n",
      " 10  DT00                          927 non-null    float64       \n",
      " 11  DT32                          927 non-null    float64       \n",
      " 12  DX32                          926 non-null    float64       \n",
      " 13  DX70                          926 non-null    float64       \n",
      " 14  DX90                          926 non-null    float64       \n",
      " 15  DYFG                          585 non-null    float64       \n",
      " 16  DYHF                          271 non-null    float64       \n",
      " 17  DYNT                          927 non-null    float64       \n",
      " 18  DYSD                          804 non-null    float64       \n",
      " 19  DYSN                          912 non-null    float64       \n",
      " 20  DYTS                          470 non-null    float64       \n",
      " 21  DYXP                          930 non-null    int64         \n",
      " 22  DYXT                          926 non-null    float64       \n",
      " 23  EMNT                          927 non-null    float64       \n",
      " 24  EMSD                          804 non-null    float64       \n",
      " 25  EMSN                          912 non-null    float64       \n",
      " 26  EMXP                          930 non-null    float64       \n",
      " 27  EMXT                          926 non-null    float64       \n",
      " 28  HDSD                          901 non-null    float64       \n",
      " 29  HTDD                          926 non-null    float64       \n",
      " 30  PRCP                          930 non-null    float64       \n",
      " 31  SNOW                          912 non-null    float64       \n",
      " 32  TAVG                          926 non-null    float64       \n",
      " 33  TMAX                          926 non-null    float64       \n",
      " 34  TMIN                          927 non-null    float64       \n",
      " 35  WDF2                          334 non-null    float64       \n",
      " 36  WDF5                          309 non-null    float64       \n",
      " 37  WSF2                          334 non-null    float64       \n",
      " 38  WSF5                          309 non-null    float64       \n",
      " 39  avg_shortwave_radiation       113 non-null    float64       \n",
      " 40  max_shortwave_radiation       113 non-null    float64       \n",
      " 41  min_shortwave_radiation       113 non-null    float64       \n",
      " 42  avg_direct_radiation          113 non-null    float64       \n",
      " 43  max_direct_radiation          113 non-null    float64       \n",
      " 44  min_direct_radiation          113 non-null    float64       \n",
      " 45  avg_direct_normal_irradiance  113 non-null    float64       \n",
      " 46  max_direct_normal_irradiance  113 non-null    float64       \n",
      " 47  min_direct_normal_irradiance  113 non-null    float64       \n",
      " 48  avg_global_tilted_irradiance  113 non-null    float64       \n",
      " 49  max_global_tilted_irradiance  113 non-null    float64       \n",
      " 50  min_global_tilted_irradiance  113 non-null    float64       \n",
      " 51  year                          930 non-null    int32         \n",
      " 52  month                         930 non-null    int32         \n",
      "dtypes: datetime64[ns](1), float64(44), int32(2), int64(6)\n",
      "memory usage: 377.9 KB\n"
     ]
    }
   ],
   "execution_count": 40
  },
  {
   "cell_type": "code",
   "metadata": {
    "ExecuteTime": {
     "end_time": "2025-09-26T02:22:19.397154Z",
     "start_time": "2025-09-26T02:22:19.128077Z"
    }
   },
   "source": [
    "# Visual 1 - Month over Month percentage change of Max/Min and Avg temperature\n",
    "# Compute annual mean of TMAX\n",
    "max_dr_annual = (\n",
    "    df_merged_monthly_summary.groupby(\"year\", as_index=False)[\"max_direct_radiation\"]\n",
    "    .mean()\n",
    "    .rename(columns={\"max_direct_radiation\": \"max_dr_mean\"})\n",
    "    .dropna()\n",
    ")\n",
    "\n",
    "# Compare Year-over-year absolute change\n",
    "max_dr_annual[\"yoy_change\"] = max_dr_annual[\"max_dr_mean\"].diff()\n",
    "\n",
    "# Plot YoY change as a bar chart with up/down colors\n",
    "colors = [\"green\" if v >= 0 else \"red\" for v in max_dr_annual[\"yoy_change\"].fillna(0)]\n",
    "ax = max_dr_annual.plot(\n",
    "    x=\"year\", y=\"yoy_change\", kind=\"bar\", color=colors, legend=False, figsize=(18, 5)\n",
    ")\n",
    "ax.set_title(\"Year-over-Year Change in Max Direct Radiation as Annual Mean)\")\n",
    "ax.set_xlabel(\"Year\")\n",
    "ax.set_ylabel(\"Change in TMAX\")\n",
    "plt.xticks(rotation=45, ha=\"right\")\n",
    "plt.tight_layout()"
   ],
   "outputs": [
    {
     "data": {
      "text/plain": [
       "<Figure size 1800x500 with 1 Axes>"
      ],
      "image/png": "[encoded data removed]"
     },
     "metadata": {},
     "output_type": "display_data",
     "jetTransient": {
      "display_id": null
     }
    }
   ],
   "execution_count": 45
  },
  {
   "cell_type": "markdown",
   "metadata": {},
   "source": [
    "*Answer to research question:*\n",
    "As we can see there is some variability year over year, but this last year has seen a large uptick in Maximum direct radiation. Next let's get a cleaner view and see about pinpointing by how much the temperature is trending upwards."
   ]
  },
  {
   "cell_type": "code",
   "metadata": {
    "id": "6fdK_8ZGZm9R",
    "ExecuteTime": {
     "end_time": "2025-09-26T12:23:09.435324Z",
     "start_time": "2025-09-26T12:23:08.885293Z"
    }
   },
   "source": [
    "# Visual 2 - Annual average temperature trend (TAVG) with 10-year rolling mean and linear trend\n",
    "annual_tavg = (\n",
    "    df_merged_monthly_summary.groupby(\"year\", as_index=False)[\"TAVG\"]\n",
    "    .mean()\n",
    "    .rename(columns={\"TAVG\": \"tavg_mean\"})\n",
    "    .sort_values(\"year\")\n",
    ")\n",
    "# 10-year rolling mean (centered)\n",
    "annual_tavg[\"roll10\"] = (\n",
    "    annual_tavg[\"tavg_mean\"].rolling(10, min_periods=5, center=True).mean()\n",
    ")\n",
    "# Linear trend\n",
    "x = annual_tavg[\"year\"].to_numpy()\n",
    "y = annual_tavg[\"tavg_mean\"].to_numpy()\n",
    "# Must have more than 2 years to build trend line\n",
    "if len(annual_tavg) >= 2:\n",
    "    coef = np.polyfit(x, y, 1)\n",
    "    trend_fn = np.poly1d(coef)\n",
    "    annual_tavg[\"trend\"] = trend_fn(x)\n",
    "    slope_decade = coef[0] * 10.0\n",
    "else:\n",
    "    annual_tavg[\"trend\"] = np.nan\n",
    "    slope_decade = float(\"nan\")\n",
    "\n",
    "plt.figure(figsize=(18, 6))\n",
    "plt.plot(\n",
    "    annual_tavg[\"year\"],\n",
    "    annual_tavg[\"tavg_mean\"],\n",
    "    color=\"lightgray\",\n",
    "    linewidth=2,\n",
    "    label=\"Annual mean (TAVG)\",\n",
    ")\n",
    "plt.plot(\n",
    "    annual_tavg[\"year\"],\n",
    "    annual_tavg[\"roll10\"],\n",
    "    color=\"steelblue\",\n",
    "    linewidth=3,\n",
    "    label=\"10-yr rolling mean\",\n",
    ")\n",
    "\n",
    "if np.isfinite(slope_decade):\n",
    "    plt.plot(\n",
    "        annual_tavg[\"year\"],\n",
    "        annual_tavg[\"trend\"],\n",
    "        color=\"crimson\",\n",
    "        linestyle=\"--\",\n",
    "        linewidth=2,\n",
    "        label=\"Linear trend\",\n",
    "    )\n",
    "    plt.title(\n",
    "        \"Annual Average Temperature (TAVG) with 10-year Rolling Mean and Linear Trend\"\n",
    "    )\n",
    "    print(f\"Estimated warming trend: {slope_decade:.2f} °C per decade\")\n",
    "else:\n",
    "    plt.title(\"Annual Average Temperature (TAVG) with 10-year Rolling Mean\")\n",
    "plt.xlabel(\"Year\")\n",
    "plt.ylabel(\"Temperature (°C)\")\n",
    "plt.legend()\n",
    "plt.grid(alpha=0.2)\n",
    "plt.tight_layout()"
   ],
   "outputs": [
    {
     "name": "stdout",
     "output_type": "stream",
     "text": [
      "Estimated warming trend: 0.10 °C per decade\n"
     ]
    },
    {
     "data": {
      "text/plain": [
       "<Figure size 1800x600 with 1 Axes>"
      ],
      "image/png": "[encoded data removed]"
     },
     "metadata": {},
     "output_type": "display_data",
     "jetTransient": {
      "display_id": null
     }
    }
   ],
   "execution_count": 48
  },
  {
   "cell_type": "markdown",
   "metadata": {
    "id": "K5RgvMGUZoHn"
   },
   "source": [
    "*Answer to research question:*\n",
    "To further suggest the increase in temperature year over year we can see in the above chart that the average temperature has been trending hotter by around 0.1 degrees C."
   ]
  },
  {
   "cell_type": "markdown",
   "metadata": {
    "id": "0ezWXXZVj-TP"
   },
   "source": [
    "### **5.2:** Reflection\n",
    "In 2-4 sentences, if you had more time to complete the project, what actions would you take? For example, which data quality and structural issues would you look into further, and what research questions would you further explore?"
   ]
  },
  {
   "cell_type": "markdown",
   "metadata": {
    "id": "XB3RBDG5kFe1"
   },
   "source": [
    "*Answer:*\n",
    "Given more time I would like to investigate the trends as of late, and how they compare to events around the world. For example hurricanes, Cloud Seeding, and changes in emissions output or policy.\n",
    "Given more time I would like to investigate further trends in the wide assortment of variables present in the Open Meteo, and NOAA data sets. By having these sets parsed aggregated and in a local database I will be able to build on this project as time goes on."
   ]
  }
 ],
 "metadata": {
  "colab": {
   "provenance": []
  },
  "kernelspec": {
   "display_name": "Python 3 (ipykernel)",
   "language": "python",
   "name": "python3"
  },
  "language_info": {
   "codemirror_mode": {
    "name": "ipython",
    "version": 3
   },
   "file_extension": ".py",
   "mimetype": "text/x-python",
   "name": "python",
   "nbconvert_exporter": "python",
   "pygments_lexer": "ipython3",
   "version": "3.10.10"
  }
 },
 "nbformat": 4,
 "nbformat_minor": 1
}
